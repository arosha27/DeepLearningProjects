{
 "cells": [
  {
   "cell_type": "markdown",
   "id": "f0603623",
   "metadata": {},
   "source": [
    "# Scotland Monthly Birth rate Forecasting"
   ]
  },
  {
   "cell_type": "markdown",
   "id": "e4f204c7",
   "metadata": {},
   "source": [
    "## Step 1: Data Loading"
   ]
  },
  {
   "cell_type": "code",
   "execution_count": 2,
   "id": "3965c830",
   "metadata": {},
   "outputs": [
    {
     "name": "stdout",
     "output_type": "stream",
     "text": [
      "Data Loaded Successfully\n"
     ]
    },
    {
     "data": {
      "text/html": [
       "<div>\n",
       "<style scoped>\n",
       "    .dataframe tbody tr th:only-of-type {\n",
       "        vertical-align: middle;\n",
       "    }\n",
       "\n",
       "    .dataframe tbody tr th {\n",
       "        vertical-align: top;\n",
       "    }\n",
       "\n",
       "    .dataframe thead th {\n",
       "        text-align: right;\n",
       "    }\n",
       "</style>\n",
       "<table border=\"1\" class=\"dataframe\">\n",
       "  <thead>\n",
       "    <tr style=\"text-align: right;\">\n",
       "      <th></th>\n",
       "      <th>Year</th>\n",
       "      <th>Month</th>\n",
       "      <th>NHS Board area</th>\n",
       "      <th>Births registered</th>\n",
       "    </tr>\n",
       "  </thead>\n",
       "  <tbody>\n",
       "    <tr>\n",
       "      <th>0</th>\n",
       "      <td>2025</td>\n",
       "      <td>June</td>\n",
       "      <td>Ayrshire and Arran</td>\n",
       "      <td>273</td>\n",
       "    </tr>\n",
       "    <tr>\n",
       "      <th>1</th>\n",
       "      <td>2025</td>\n",
       "      <td>June</td>\n",
       "      <td>Borders</td>\n",
       "      <td>64</td>\n",
       "    </tr>\n",
       "    <tr>\n",
       "      <th>2</th>\n",
       "      <td>2025</td>\n",
       "      <td>June</td>\n",
       "      <td>Dumfries and Galloway</td>\n",
       "      <td>82</td>\n",
       "    </tr>\n",
       "    <tr>\n",
       "      <th>3</th>\n",
       "      <td>2025</td>\n",
       "      <td>June</td>\n",
       "      <td>Fife</td>\n",
       "      <td>242</td>\n",
       "    </tr>\n",
       "    <tr>\n",
       "      <th>4</th>\n",
       "      <td>2025</td>\n",
       "      <td>June</td>\n",
       "      <td>Forth Valley</td>\n",
       "      <td>195</td>\n",
       "    </tr>\n",
       "  </tbody>\n",
       "</table>\n",
       "</div>"
      ],
      "text/plain": [
       "   Year Month         NHS Board area  Births registered\n",
       "0  2025  June     Ayrshire and Arran                273\n",
       "1  2025  June                Borders                 64\n",
       "2  2025  June  Dumfries and Galloway                 82\n",
       "3  2025  June                   Fife                242\n",
       "4  2025  June           Forth Valley                195"
      ]
     },
     "execution_count": 2,
     "metadata": {},
     "output_type": "execute_result"
    }
   ],
   "source": [
    "import pandas as pd\n",
    "import numpy as np\n",
    "\n",
    "df = pd.read_csv(\"monthly_births_table_1.csv\")\n",
    "print(\"Data Loaded Successfully\")\n",
    "df.head()"
   ]
  },
  {
   "cell_type": "markdown",
   "id": "453a7a31",
   "metadata": {},
   "source": [
    "## Step 2 : Trimming the data according to the requirement"
   ]
  },
  {
   "cell_type": "code",
   "execution_count": 3,
   "id": "0137e33f",
   "metadata": {},
   "outputs": [
    {
     "data": {
      "text/plain": [
       "(6091, 4)"
      ]
     },
     "execution_count": 3,
     "metadata": {},
     "output_type": "execute_result"
    }
   ],
   "source": [
    "df.shape"
   ]
  },
  {
   "cell_type": "code",
   "execution_count": 4,
   "id": "e3a0e72d",
   "metadata": {},
   "outputs": [],
   "source": [
    "df_new = df[(df[\"Year\"]>=1998) & (df[\"Year\"]<=2022)]"
   ]
  },
  {
   "cell_type": "code",
   "execution_count": 5,
   "id": "ab944875",
   "metadata": {},
   "outputs": [
    {
     "data": {
      "text/html": [
       "<div>\n",
       "<style scoped>\n",
       "    .dataframe tbody tr th:only-of-type {\n",
       "        vertical-align: middle;\n",
       "    }\n",
       "\n",
       "    .dataframe tbody tr th {\n",
       "        vertical-align: top;\n",
       "    }\n",
       "\n",
       "    .dataframe thead th {\n",
       "        text-align: right;\n",
       "    }\n",
       "</style>\n",
       "<table border=\"1\" class=\"dataframe\">\n",
       "  <thead>\n",
       "    <tr style=\"text-align: right;\">\n",
       "      <th></th>\n",
       "      <th>Year</th>\n",
       "      <th>Month</th>\n",
       "      <th>NHS Board area</th>\n",
       "      <th>Births registered</th>\n",
       "    </tr>\n",
       "  </thead>\n",
       "  <tbody>\n",
       "    <tr>\n",
       "      <th>450</th>\n",
       "      <td>2022</td>\n",
       "      <td>December</td>\n",
       "      <td>Ayrshire and Arran</td>\n",
       "      <td>191</td>\n",
       "    </tr>\n",
       "    <tr>\n",
       "      <th>451</th>\n",
       "      <td>2022</td>\n",
       "      <td>December</td>\n",
       "      <td>Borders</td>\n",
       "      <td>61</td>\n",
       "    </tr>\n",
       "    <tr>\n",
       "      <th>452</th>\n",
       "      <td>2022</td>\n",
       "      <td>December</td>\n",
       "      <td>Dumfries and Galloway</td>\n",
       "      <td>68</td>\n",
       "    </tr>\n",
       "    <tr>\n",
       "      <th>453</th>\n",
       "      <td>2022</td>\n",
       "      <td>December</td>\n",
       "      <td>Fife</td>\n",
       "      <td>208</td>\n",
       "    </tr>\n",
       "    <tr>\n",
       "      <th>454</th>\n",
       "      <td>2022</td>\n",
       "      <td>December</td>\n",
       "      <td>Forth Valley</td>\n",
       "      <td>167</td>\n",
       "    </tr>\n",
       "    <tr>\n",
       "      <th>...</th>\n",
       "      <td>...</td>\n",
       "      <td>...</td>\n",
       "      <td>...</td>\n",
       "      <td>...</td>\n",
       "    </tr>\n",
       "    <tr>\n",
       "      <th>4931</th>\n",
       "      <td>1998</td>\n",
       "      <td>January</td>\n",
       "      <td>Orkney</td>\n",
       "      <td>11</td>\n",
       "    </tr>\n",
       "    <tr>\n",
       "      <th>4932</th>\n",
       "      <td>1998</td>\n",
       "      <td>January</td>\n",
       "      <td>Scotland</td>\n",
       "      <td>4924</td>\n",
       "    </tr>\n",
       "    <tr>\n",
       "      <th>4933</th>\n",
       "      <td>1998</td>\n",
       "      <td>January</td>\n",
       "      <td>Shetland</td>\n",
       "      <td>17</td>\n",
       "    </tr>\n",
       "    <tr>\n",
       "      <th>4934</th>\n",
       "      <td>1998</td>\n",
       "      <td>January</td>\n",
       "      <td>Tayside</td>\n",
       "      <td>353</td>\n",
       "    </tr>\n",
       "    <tr>\n",
       "      <th>4935</th>\n",
       "      <td>1998</td>\n",
       "      <td>January</td>\n",
       "      <td>Western Isles</td>\n",
       "      <td>26</td>\n",
       "    </tr>\n",
       "  </tbody>\n",
       "</table>\n",
       "<p>4486 rows × 4 columns</p>\n",
       "</div>"
      ],
      "text/plain": [
       "      Year     Month         NHS Board area  Births registered\n",
       "450   2022  December     Ayrshire and Arran                191\n",
       "451   2022  December                Borders                 61\n",
       "452   2022  December  Dumfries and Galloway                 68\n",
       "453   2022  December                   Fife                208\n",
       "454   2022  December           Forth Valley                167\n",
       "...    ...       ...                    ...                ...\n",
       "4931  1998   January                 Orkney                 11\n",
       "4932  1998   January               Scotland               4924\n",
       "4933  1998   January               Shetland                 17\n",
       "4934  1998   January                Tayside                353\n",
       "4935  1998   January          Western Isles                 26\n",
       "\n",
       "[4486 rows x 4 columns]"
      ]
     },
     "execution_count": 5,
     "metadata": {},
     "output_type": "execute_result"
    }
   ],
   "source": [
    "df_new"
   ]
  },
  {
   "cell_type": "markdown",
   "id": "84ff8506",
   "metadata": {},
   "source": [
    "##  Step 3: Data Inspection and Preprocessing"
   ]
  },
  {
   "cell_type": "code",
   "execution_count": 6,
   "id": "b3a9445d",
   "metadata": {},
   "outputs": [
    {
     "data": {
      "text/plain": [
       "(4486, 4)"
      ]
     },
     "execution_count": 6,
     "metadata": {},
     "output_type": "execute_result"
    }
   ],
   "source": [
    "df_new.shape"
   ]
  },
  {
   "cell_type": "code",
   "execution_count": 7,
   "id": "69a44d68",
   "metadata": {},
   "outputs": [
    {
     "data": {
      "text/html": [
       "<div>\n",
       "<style scoped>\n",
       "    .dataframe tbody tr th:only-of-type {\n",
       "        vertical-align: middle;\n",
       "    }\n",
       "\n",
       "    .dataframe tbody tr th {\n",
       "        vertical-align: top;\n",
       "    }\n",
       "\n",
       "    .dataframe thead th {\n",
       "        text-align: right;\n",
       "    }\n",
       "</style>\n",
       "<table border=\"1\" class=\"dataframe\">\n",
       "  <thead>\n",
       "    <tr style=\"text-align: right;\">\n",
       "      <th></th>\n",
       "      <th>Year</th>\n",
       "      <th>Month</th>\n",
       "      <th>NHS Board area</th>\n",
       "      <th>Births registered</th>\n",
       "    </tr>\n",
       "  </thead>\n",
       "  <tbody>\n",
       "    <tr>\n",
       "      <th>450</th>\n",
       "      <td>2022</td>\n",
       "      <td>December</td>\n",
       "      <td>Ayrshire and Arran</td>\n",
       "      <td>191</td>\n",
       "    </tr>\n",
       "    <tr>\n",
       "      <th>451</th>\n",
       "      <td>2022</td>\n",
       "      <td>December</td>\n",
       "      <td>Borders</td>\n",
       "      <td>61</td>\n",
       "    </tr>\n",
       "    <tr>\n",
       "      <th>452</th>\n",
       "      <td>2022</td>\n",
       "      <td>December</td>\n",
       "      <td>Dumfries and Galloway</td>\n",
       "      <td>68</td>\n",
       "    </tr>\n",
       "    <tr>\n",
       "      <th>453</th>\n",
       "      <td>2022</td>\n",
       "      <td>December</td>\n",
       "      <td>Fife</td>\n",
       "      <td>208</td>\n",
       "    </tr>\n",
       "    <tr>\n",
       "      <th>454</th>\n",
       "      <td>2022</td>\n",
       "      <td>December</td>\n",
       "      <td>Forth Valley</td>\n",
       "      <td>167</td>\n",
       "    </tr>\n",
       "  </tbody>\n",
       "</table>\n",
       "</div>"
      ],
      "text/plain": [
       "     Year     Month         NHS Board area  Births registered\n",
       "450  2022  December     Ayrshire and Arran                191\n",
       "451  2022  December                Borders                 61\n",
       "452  2022  December  Dumfries and Galloway                 68\n",
       "453  2022  December                   Fife                208\n",
       "454  2022  December           Forth Valley                167"
      ]
     },
     "execution_count": 7,
     "metadata": {},
     "output_type": "execute_result"
    }
   ],
   "source": [
    "df_new.head()"
   ]
  },
  {
   "cell_type": "code",
   "execution_count": 8,
   "id": "2f76372c",
   "metadata": {},
   "outputs": [
    {
     "data": {
      "text/html": [
       "<div>\n",
       "<style scoped>\n",
       "    .dataframe tbody tr th:only-of-type {\n",
       "        vertical-align: middle;\n",
       "    }\n",
       "\n",
       "    .dataframe tbody tr th {\n",
       "        vertical-align: top;\n",
       "    }\n",
       "\n",
       "    .dataframe thead th {\n",
       "        text-align: right;\n",
       "    }\n",
       "</style>\n",
       "<table border=\"1\" class=\"dataframe\">\n",
       "  <thead>\n",
       "    <tr style=\"text-align: right;\">\n",
       "      <th></th>\n",
       "      <th>Year</th>\n",
       "      <th>Month</th>\n",
       "      <th>NHS Board area</th>\n",
       "      <th>Births registered</th>\n",
       "    </tr>\n",
       "  </thead>\n",
       "  <tbody>\n",
       "    <tr>\n",
       "      <th>4931</th>\n",
       "      <td>1998</td>\n",
       "      <td>January</td>\n",
       "      <td>Orkney</td>\n",
       "      <td>11</td>\n",
       "    </tr>\n",
       "    <tr>\n",
       "      <th>4932</th>\n",
       "      <td>1998</td>\n",
       "      <td>January</td>\n",
       "      <td>Scotland</td>\n",
       "      <td>4924</td>\n",
       "    </tr>\n",
       "    <tr>\n",
       "      <th>4933</th>\n",
       "      <td>1998</td>\n",
       "      <td>January</td>\n",
       "      <td>Shetland</td>\n",
       "      <td>17</td>\n",
       "    </tr>\n",
       "    <tr>\n",
       "      <th>4934</th>\n",
       "      <td>1998</td>\n",
       "      <td>January</td>\n",
       "      <td>Tayside</td>\n",
       "      <td>353</td>\n",
       "    </tr>\n",
       "    <tr>\n",
       "      <th>4935</th>\n",
       "      <td>1998</td>\n",
       "      <td>January</td>\n",
       "      <td>Western Isles</td>\n",
       "      <td>26</td>\n",
       "    </tr>\n",
       "  </tbody>\n",
       "</table>\n",
       "</div>"
      ],
      "text/plain": [
       "      Year    Month NHS Board area  Births registered\n",
       "4931  1998  January         Orkney                 11\n",
       "4932  1998  January       Scotland               4924\n",
       "4933  1998  January       Shetland                 17\n",
       "4934  1998  January        Tayside                353\n",
       "4935  1998  January  Western Isles                 26"
      ]
     },
     "execution_count": 8,
     "metadata": {},
     "output_type": "execute_result"
    }
   ],
   "source": [
    "df_new.tail()"
   ]
  },
  {
   "cell_type": "code",
   "execution_count": 9,
   "id": "c2302596",
   "metadata": {},
   "outputs": [
    {
     "name": "stdout",
     "output_type": "stream",
     "text": [
      "Dataset Information\n",
      "<class 'pandas.core.frame.DataFrame'>\n",
      "RangeIndex: 6091 entries, 0 to 6090\n",
      "Data columns (total 4 columns):\n",
      " #   Column             Non-Null Count  Dtype \n",
      "---  ------             --------------  ----- \n",
      " 0   Year               6091 non-null   int64 \n",
      " 1   Month              6091 non-null   object\n",
      " 2   NHS Board area     6091 non-null   object\n",
      " 3   Births registered  6091 non-null   int64 \n",
      "dtypes: int64(2), object(2)\n",
      "memory usage: 190.5+ KB\n"
     ]
    }
   ],
   "source": [
    "#descriptive Statistics\n",
    "print(\"Dataset Information\")\n",
    "df.info()"
   ]
  },
  {
   "cell_type": "markdown",
   "id": "5859111b",
   "metadata": {},
   "source": [
    "### 3.1 Converting Month (from object to int64)\n",
    "\n"
   ]
  },
  {
   "cell_type": "code",
   "execution_count": 10,
   "id": "c9b1635b",
   "metadata": {},
   "outputs": [
    {
     "name": "stderr",
     "output_type": "stream",
     "text": [
      "C:\\Users\\PMLS\\AppData\\Local\\Temp\\ipykernel_27080\\1181845315.py:1: SettingWithCopyWarning: \n",
      "A value is trying to be set on a copy of a slice from a DataFrame.\n",
      "Try using .loc[row_indexer,col_indexer] = value instead\n",
      "\n",
      "See the caveats in the documentation: https://pandas.pydata.org/pandas-docs/stable/user_guide/indexing.html#returning-a-view-versus-a-copy\n",
      "  df_new[\"Month\"] = pd.to_datetime(df_new[\"Month\"] , format= \"%B\").dt.month.astype(\"int\")\n"
     ]
    }
   ],
   "source": [
    "df_new[\"Month\"] = pd.to_datetime(df_new[\"Month\"] , format= \"%B\").dt.month.astype(\"int\")"
   ]
  },
  {
   "cell_type": "markdown",
   "id": "ba89b081",
   "metadata": {},
   "source": [
    "### 3.2 Updating the dataframe by just adding samples other than those where NHS Board area is Scotland"
   ]
  },
  {
   "cell_type": "markdown",
   "id": "8ade7754",
   "metadata": {},
   "source": [
    "**Note:** In the dataset, some birth counts appear unusually high. This is because rows where the **NHS Board area is \"Scotland\"** represent the **total births registered across all regions for that month**. To avoid duplication and ensure accurate regional analysis, these aggregate rows have been **excluded from the dataset**.\n"
   ]
  },
  {
   "cell_type": "code",
   "execution_count": 11,
   "id": "814d99cd",
   "metadata": {},
   "outputs": [],
   "source": [
    "df_new = df_new[df_new[\"NHS Board area\"]!=\"Scotland\"].reset_index()"
   ]
  },
  {
   "cell_type": "markdown",
   "id": "ffb05356",
   "metadata": {},
   "source": [
    "### 3.3 : Quality Assessment"
   ]
  },
  {
   "cell_type": "code",
   "execution_count": 12,
   "id": "d8994732",
   "metadata": {},
   "outputs": [
    {
     "name": "stdout",
     "output_type": "stream",
     "text": [
      "Missing Values in DataFrame : 0\n",
      "Zero Birth values if present :0\n",
      "Negative value of Births register : 0\n",
      "Duplicated rows in DataFrame : 0\n"
     ]
    }
   ],
   "source": [
    "print(f\"Missing Values in DataFrame : {df_new.isnull().sum().sum()}\")\n",
    "print(f\"Zero Birth values if present :{(df_new[\"Births registered\"] == 0).sum()}\")\n",
    "print(f\"Negative value of Births register : {(df_new[\"Births registered\"]<0).sum()}\")\n",
    "print(f\"Duplicated rows in DataFrame : {df_new.duplicated().sum()}\")"
   ]
  },
  {
   "cell_type": "markdown",
   "id": "eae67b8d",
   "metadata": {},
   "source": [
    "### 3.4 : Visiualize the distribution of Birth Registered "
   ]
  },
  {
   "cell_type": "code",
   "execution_count": 13,
   "id": "ceaa2d3c",
   "metadata": {},
   "outputs": [
    {
     "data": {
      "image/png": "[encoded data removed]",
      "text/plain": [
       "<Figure size 1200x600 with 1 Axes>"
      ]
     },
     "metadata": {},
     "output_type": "display_data"
    }
   ],
   "source": [
    "\n",
    "import matplotlib.pyplot as plt\n",
    "import seaborn as sns# Total Births registered by each board \n",
    "\n",
    "plt.figure(figsize =(12, 6))\n",
    "boards_total = df_new.groupby(\"NHS Board area\")[\"Births registered\"].sum().sort_values()\n",
    "boards_total.plot(kind = \"barh\")\n",
    "plt.title(\"Total Births Registered by Each Board in the duration from 1998 to 2025\")\n",
    "plt.xlabel(\"Total Births\")\n",
    "plt.show()\n"
   ]
  },
  {
   "cell_type": "code",
   "execution_count": 14,
   "id": "90adb6da",
   "metadata": {},
   "outputs": [
    {
     "data": {
      "text/plain": [
       "Text(0.5, 1.0, 'Total Births Registered In each Month')"
      ]
     },
     "execution_count": 14,
     "metadata": {},
     "output_type": "execute_result"
    },
    {
     "data": {
      "image/png": "[encoded data removed]",
      "text/plain": [
       "<Figure size 1200x600 with 1 Axes>"
      ]
     },
     "metadata": {},
     "output_type": "display_data"
    }
   ],
   "source": [
    "# Monthly distribution of birth registered\n",
    "\n",
    "plt.figure(figsize=(12,6))\n",
    "monthly_totals = df_new.groupby(\"Month\")[\"Births registered\"].sum()\n",
    "\n",
    "# Step 2: Find the index (month) with max value\n",
    "max_month = monthly_totals.idxmax()\n",
    "\n",
    "# Step 3: Create a color list\n",
    "colors = ['skyblue' if month != max_month else 'orange' for month in monthly_totals.index]\n",
    "\n",
    "monthly_totals.plot(kind = \"barh\" , color= colors)\n",
    "plt.title(\"Total Births Registered In each Month\")\n"
   ]
  },
  {
   "cell_type": "markdown",
   "id": "09aa2ee4",
   "metadata": {},
   "source": [
    "### 3.5 Outliers Detection"
   ]
  },
  {
   "cell_type": "markdown",
   "id": "32bac7f4",
   "metadata": {},
   "source": [
    "#### Before:"
   ]
  },
  {
   "cell_type": "code",
   "execution_count": 15,
   "id": "5bb119d4",
   "metadata": {},
   "outputs": [
    {
     "data": {
      "image/png": "[encoded data removed]",
      "text/plain": [
       "<Figure size 1000x500 with 1 Axes>"
      ]
     },
     "metadata": {},
     "output_type": "display_data"
    }
   ],
   "source": [
    "import seaborn as sns\n",
    "import matplotlib.pyplot as plt\n",
    "\n",
    "plt.figure(figsize=(10, 5))\n",
    "sns.boxplot(data=df_new, x=\"Births registered\")\n",
    "plt.title(\"Box Plot of Births Registered\")\n",
    "plt.xlabel(\"Births Registered\")\n",
    "plt.show()\n"
   ]
  },
  {
   "cell_type": "markdown",
   "id": "0e503b89",
   "metadata": {},
   "source": [
    "### 3.6 Outlier and skewness handling via Log Transformation\n",
    "**Since our data is skewed, we apply log transformation to compress large birth counts and expand smaller ones, making the data more balanced and uniform for analysis.**"
   ]
  },
  {
   "cell_type": "code",
   "execution_count": 16,
   "id": "5ae759f9",
   "metadata": {},
   "outputs": [
    {
     "data": {
      "text/plain": [
       "np.float64(1.1039861106422422)"
      ]
     },
     "execution_count": 16,
     "metadata": {},
     "output_type": "execute_result"
    }
   ],
   "source": [
    "# Check the skewness value before applying any transformation\n",
    "skew_value = df_new[\"Births registered\"].skew()\n",
    "skew_value\n",
    "\n",
    "\n",
    "# skew_value ~ 0 : symmetric\n",
    "# skew_value > 0.5 : moderately skewed\n",
    "# skew_value > 1 : highly skewed"
   ]
  },
  {
   "cell_type": "code",
   "execution_count": 17,
   "id": "a05034da",
   "metadata": {},
   "outputs": [
    {
     "data": {
      "image/png": "[encoded data removed]",
      "text/plain": [
       "<Figure size 640x480 with 1 Axes>"
      ]
     },
     "metadata": {},
     "output_type": "display_data"
    }
   ],
   "source": [
    "# Applying log transformation as it is best for right skewed data and outliers\n",
    "df_new[\"logged_births\"] = np.log1p(df_new[\"Births registered\"])\n",
    "sns.boxplot(data = df_new, x=\"logged_births\")\n",
    "plt.show()"
   ]
  },
  {
   "cell_type": "code",
   "execution_count": 18,
   "id": "54a0d530",
   "metadata": {},
   "outputs": [
    {
     "data": {
      "text/plain": [
       "np.float64(-0.718435992444074)"
      ]
     },
     "execution_count": 18,
     "metadata": {},
     "output_type": "execute_result"
    }
   ],
   "source": [
    "df_new[\"logged_births\"].skew()\n"
   ]
  },
  {
   "cell_type": "markdown",
   "id": "641ca211",
   "metadata": {},
   "source": [
    "### 3.6 Outlier and skewness handling via IQR"
   ]
  },
  {
   "cell_type": "code",
   "execution_count": 19,
   "id": "e95049c0",
   "metadata": {},
   "outputs": [],
   "source": [
    "#Handling the outliers\n",
    "Q1 = df_new[\"logged_births\"].quantile(0.25)\n",
    "Q3 = df_new[\"logged_births\"].quantile(.75)\n",
    "IQR = Q3 - Q1\n",
    "\n",
    "upper_bound = Q3 + 1.5 * IQR\n",
    "lower_bound = Q1 - 1.5 * IQR\n",
    "\n",
    "df_cleaned = df_new[(df_new[\"logged_births\"]>=lower_bound) & (df_new[\"logged_births\"]<=upper_bound)]\n"
   ]
  },
  {
   "cell_type": "code",
   "execution_count": 20,
   "id": "dcfe2637",
   "metadata": {},
   "outputs": [
    {
     "data": {
      "image/png": "[encoded data removed]",
      "text/plain": [
       "<Figure size 1000x500 with 1 Axes>"
      ]
     },
     "metadata": {},
     "output_type": "display_data"
    }
   ],
   "source": [
    "import seaborn as sns\n",
    "import matplotlib.pyplot as plt\n",
    "\n",
    "plt.figure(figsize=(10, 5))\n",
    "sns.boxplot(data=df_cleaned, x=\"logged_births\")\n",
    "plt.title(\"Box Plot of logged birth\")\n",
    "plt.xlabel(\"Logged Births\")\n",
    "plt.show()"
   ]
  },
  {
   "cell_type": "markdown",
   "id": "1da0bc57",
   "metadata": {},
   "source": [
    "**Now that our data is free from outliers and any kinda skewness** "
   ]
  },
  {
   "cell_type": "markdown",
   "id": "dd3c60d0",
   "metadata": {},
   "source": [
    "# 4. Aggregating Data to the National Level\n",
    "- since we are supposed to forecast the monthly birth counts for the whole Scotland.\n",
    "- And now df_cleaned is at regional level dataframe , we need to convert it into national level.\n",
    "- Before we split the data , we must need to aggregate the total births in a month in Scotland.\n",
    "\n",
    "**Why this is necessary:** The objective is to create a single time series representing the total births per month for the entire country, which we will then use for forecasting."
   ]
  },
  {
   "cell_type": "code",
   "execution_count": 21,
   "id": "2eb6d43a",
   "metadata": {},
   "outputs": [
    {
     "data": {
      "text/plain": [
       "Index(['index', 'Year', 'Month', 'NHS Board area', 'Births registered',\n",
       "       'logged_births'],\n",
       "      dtype='object')"
      ]
     },
     "execution_count": 21,
     "metadata": {},
     "output_type": "execute_result"
    }
   ],
   "source": [
    "df_cleaned.columns"
   ]
  },
  {
   "cell_type": "code",
   "execution_count": 22,
   "id": "3aded604",
   "metadata": {},
   "outputs": [],
   "source": [
    "monthly_series = df_cleaned.groupby([\"Year\" , \"Month\"])[\"logged_births\"].sum().reset_index()"
   ]
  },
  {
   "cell_type": "code",
   "execution_count": 23,
   "id": "e3a920e7",
   "metadata": {},
   "outputs": [],
   "source": [
    "monthly_series[\"Date\"] = pd.to_datetime(monthly_series[\"Year\"].astype(str) +\"-\" + monthly_series[\"Month\"].astype(str))\n"
   ]
  },
  {
   "cell_type": "code",
   "execution_count": 24,
   "id": "a78ba75c",
   "metadata": {},
   "outputs": [],
   "source": [
    "monthly_series = monthly_series.set_index('Date')"
   ]
  },
  {
   "cell_type": "code",
   "execution_count": 25,
   "id": "4b5af486",
   "metadata": {},
   "outputs": [
    {
     "data": {
      "text/html": [
       "<div>\n",
       "<style scoped>\n",
       "    .dataframe tbody tr th:only-of-type {\n",
       "        vertical-align: middle;\n",
       "    }\n",
       "\n",
       "    .dataframe tbody tr th {\n",
       "        vertical-align: top;\n",
       "    }\n",
       "\n",
       "    .dataframe thead th {\n",
       "        text-align: right;\n",
       "    }\n",
       "</style>\n",
       "<table border=\"1\" class=\"dataframe\">\n",
       "  <thead>\n",
       "    <tr style=\"text-align: right;\">\n",
       "      <th></th>\n",
       "      <th>Year</th>\n",
       "      <th>Month</th>\n",
       "      <th>logged_births</th>\n",
       "    </tr>\n",
       "    <tr>\n",
       "      <th>Date</th>\n",
       "      <th></th>\n",
       "      <th></th>\n",
       "      <th></th>\n",
       "    </tr>\n",
       "  </thead>\n",
       "  <tbody>\n",
       "    <tr>\n",
       "      <th>2012-04-01</th>\n",
       "      <td>2012</td>\n",
       "      <td>4</td>\n",
       "      <td>73.377218</td>\n",
       "    </tr>\n",
       "    <tr>\n",
       "      <th>2015-09-01</th>\n",
       "      <td>2015</td>\n",
       "      <td>9</td>\n",
       "      <td>73.420888</td>\n",
       "    </tr>\n",
       "    <tr>\n",
       "      <th>2011-05-01</th>\n",
       "      <td>2011</td>\n",
       "      <td>5</td>\n",
       "      <td>74.411809</td>\n",
       "    </tr>\n",
       "    <tr>\n",
       "      <th>2006-10-01</th>\n",
       "      <td>2006</td>\n",
       "      <td>10</td>\n",
       "      <td>74.287517</td>\n",
       "    </tr>\n",
       "    <tr>\n",
       "      <th>1999-10-01</th>\n",
       "      <td>1999</td>\n",
       "      <td>10</td>\n",
       "      <td>72.412867</td>\n",
       "    </tr>\n",
       "    <tr>\n",
       "      <th>1999-06-01</th>\n",
       "      <td>1999</td>\n",
       "      <td>6</td>\n",
       "      <td>73.391267</td>\n",
       "    </tr>\n",
       "    <tr>\n",
       "      <th>2019-08-01</th>\n",
       "      <td>2019</td>\n",
       "      <td>8</td>\n",
       "      <td>71.957612</td>\n",
       "    </tr>\n",
       "    <tr>\n",
       "      <th>2018-07-01</th>\n",
       "      <td>2018</td>\n",
       "      <td>7</td>\n",
       "      <td>72.206197</td>\n",
       "    </tr>\n",
       "    <tr>\n",
       "      <th>2017-08-01</th>\n",
       "      <td>2017</td>\n",
       "      <td>8</td>\n",
       "      <td>73.040800</td>\n",
       "    </tr>\n",
       "    <tr>\n",
       "      <th>2003-04-01</th>\n",
       "      <td>2003</td>\n",
       "      <td>4</td>\n",
       "      <td>71.964587</td>\n",
       "    </tr>\n",
       "  </tbody>\n",
       "</table>\n",
       "</div>"
      ],
      "text/plain": [
       "            Year  Month  logged_births\n",
       "Date                                  \n",
       "2012-04-01  2012      4      73.377218\n",
       "2015-09-01  2015      9      73.420888\n",
       "2011-05-01  2011      5      74.411809\n",
       "2006-10-01  2006     10      74.287517\n",
       "1999-10-01  1999     10      72.412867\n",
       "1999-06-01  1999      6      73.391267\n",
       "2019-08-01  2019      8      71.957612\n",
       "2018-07-01  2018      7      72.206197\n",
       "2017-08-01  2017      8      73.040800\n",
       "2003-04-01  2003      4      71.964587"
      ]
     },
     "execution_count": 25,
     "metadata": {},
     "output_type": "execute_result"
    }
   ],
   "source": [
    "monthly_series.sample(10)"
   ]
  },
  {
   "cell_type": "code",
   "execution_count": 26,
   "id": "b870d5ac",
   "metadata": {},
   "outputs": [],
   "source": [
    "# Select only the target column for our time series\n",
    "scotland_births_ts = monthly_series[['logged_births']]"
   ]
  },
  {
   "cell_type": "code",
   "execution_count": 27,
   "id": "44397f81",
   "metadata": {},
   "outputs": [
    {
     "name": "stdout",
     "output_type": "stream",
     "text": [
      "--- Before Handling Missing Value ---\n",
      "Is April 2020 present? False\n",
      "Number of rows: 299\n",
      "\n",
      "--- After Handling Missing Value ---\n",
      "Is April 2020 now present? True\n",
      "Number of rows: 300\n",
      "\n",
      "--- Data for the 2020 period after interpolation ---\n",
      "            logged_births\n",
      "2020-03-01      65.695658\n",
      "2020-04-01      36.817943\n",
      "2020-05-01       7.940228\n",
      "2020-06-01      47.390829\n",
      "2020-07-01      83.186090\n"
     ]
    }
   ],
   "source": [
    "\n",
    "#  FIX MISSING MONTH (APRIL 2020) VIA INTERPOLATION\n",
    "\n",
    "#I have come back to here again to do a changing in the data as I observed later on in validation_data that the April Month entrt was missing.\n",
    "#this happens due to the IQR outlier handling method\n",
    "#this need to be filled as time series data must be continuous\n",
    "\n",
    "print(\"--- Before Handling Missing Value ---\")\n",
    "print(\"Is April 2020 present?\", '2020-04-01' in scotland_births_ts.index)\n",
    "print(\"Number of rows:\", len(scotland_births_ts))\n",
    "\n",
    "\n",
    "# 1. Create a complete date range from the start to the end of our data.\n",
    "#    The 'MS' frequency code stands for 'Month Start'.\n",
    "full_date_range = pd.date_range(start=scotland_births_ts.index.min(), \n",
    "                                end=scotland_births_ts.index.max(), \n",
    "                                freq='MS')\n",
    "\n",
    "# 2. Re-index our time series with this complete date range.\n",
    "#    This will insert a row for April 2020, and its value will be NaN.\n",
    "scotland_births_ts_fixed= scotland_births_ts.reindex(full_date_range)\n",
    "\n",
    "\n",
    "# 3. Use the .interpolate() method to fill the NaN value.\n",
    "#    The default method is 'linear', which is exactly what we want.\n",
    "scotland_births_ts_fixed['logged_births'] = scotland_births_ts_fixed['logged_births'].interpolate()\n",
    "\n",
    "\n",
    "print(\"\\n--- After Handling Missing Value ---\")\n",
    "print(\"Is April 2020 now present?\", '2020-04-01' in scotland_births_ts_fixed.index)\n",
    "print(\"Number of rows:\", len(scotland_births_ts_fixed))\n",
    "print(\"\\n--- Data for the 2020 period after interpolation ---\")\n",
    "print(scotland_births_ts_fixed.loc['2020-03-01':'2020-07-01'])\n"
   ]
  },
  {
   "cell_type": "markdown",
   "id": "37634c96",
   "metadata": {},
   "source": [
    "# 5 : Splitting the Data"
   ]
  },
  {
   "cell_type": "markdown",
   "id": "7b958051",
   "metadata": {},
   "source": [
    "1. Training Set: 1998 – 2018 (for model training)\n",
    "2. Validation Set: 2019 – 2020 (for hyperparameter tuning and preventing overfitting)\n",
    "3. Test Set: 2021 – 2022 (for final, unbiased evaluation of the model)"
   ]
  },
  {
   "cell_type": "code",
   "execution_count": 28,
   "id": "41191fa7",
   "metadata": {},
   "outputs": [],
   "source": [
    "train_end = '2018-12-31'\n",
    "validation_end = '2020-12-31'\n",
    "\n",
    "# Perform the split based on the datetime index\n",
    "train_data = scotland_births_ts_fixed.loc[:train_end]\n",
    "validation_data = scotland_births_ts_fixed.loc[train_end:validation_end]\n",
    "test_data = scotland_births_ts_fixed.loc[validation_end:]"
   ]
  },
  {
   "cell_type": "code",
   "execution_count": 29,
   "id": "7a6f3948",
   "metadata": {},
   "outputs": [
    {
     "data": {
      "image/png": "[encoded data removed]",
      "text/plain": [
       "<Figure size 1400x700 with 1 Axes>"
      ]
     },
     "metadata": {},
     "output_type": "display_data"
    }
   ],
   "source": [
    "plt.figure(figsize=(14, 7))\n",
    "plt.plot(train_data.index, train_data['logged_births'], label='Training Data')\n",
    "plt.plot(validation_data.index, validation_data['logged_births'], label='Validation Data', color='orange')\n",
    "plt.plot(test_data.index, test_data['logged_births'], label='Test Data', color='green')\n",
    "plt.title(\"Train-Validation-Test Split of Scotland's Monthly Logged Births\")\n",
    "plt.xlabel(\"Date\")\n",
    "plt.ylabel(\"Logged Births (Sum)\")\n",
    "plt.legend()\n",
    "plt.grid(True, which='both', linestyle='--', linewidth=0.5)\n",
    "plt.show()"
   ]
  },
  {
   "cell_type": "markdown",
   "id": "a96ed07b",
   "metadata": {},
   "source": [
    "### What Is This \"Spike\"? The Context\n",
    "That sharp, vertical drop in your validation data (the orange line) corresponds to the initial phase of the COVID-19 pandemic and the subsequent lockdowns in 2020.\n",
    "\n",
    "Why it happened: During the first major lockdowns (roughly March-May 2020 in the UK), registration offices were closed or had severely limited services. People were legally unable to register births in person. This didn't mean fewer babies were born, but that the registration process was massively disrupted. The data recovered later in the year as offices reopened and backlogs were cleared.\n",
    "\n",
    "Why it's not a \"normal\" outlier: Unlike a random data error, this is a structural break or an exogenous shock. It's a real event caused by an external factor that fundamentally, but temporarily, changed the system we are measuring."
   ]
  },
  {
   "cell_type": "markdown",
   "id": "9a7f6757",
   "metadata": {},
   "source": [
    "## First apprach : Interpolate the value (Tempeoray before modelling or while adding exogenous feature we will not use it or comment it)"
   ]
  },
  {
   "cell_type": "code",
   "execution_count": 30,
   "id": "26a06073",
   "metadata": {},
   "outputs": [],
   "source": [
    "# #identify the exact value of anomly in the validation data\n",
    "\n",
    "# anomaly_date = validation_data[\"logged_births\"].idxmin()\n",
    "# anomlay_value = validation_data[\"logged_births\"].min()\n",
    "\n",
    "# # --- Strategy: Interpolation ---\n",
    "# # We will replace the anomalous value.\n",
    "# # To do this safely, we'll work on a copy of the validation data.\n",
    "# validation_data_handled = validation_data.copy()\n",
    "\n",
    "# # Get the index location of the anomaly\n",
    "# anomaly_loc = validation_data_handled.index.get_loc(anomaly_date)\n",
    "# anomaly_loc\n",
    "\n",
    "# #get the values of the points above and below that anomaly\n",
    "# prev_val = validation_data_handled.iloc[anomaly_loc-1][\"logged_births\"]\n",
    "# after_val = validation_data_handled.iloc[anomaly_loc +1][\"logged_births\"]\n",
    "\n",
    "\n",
    "# #interpolated value (average of both )\n",
    "# interpolated_val = (prev_val + after_val)/2\n",
    "\n",
    "# validation_data_handled.loc[anomaly_date , \"logged_births\"] = interpolated_val"
   ]
  },
  {
   "cell_type": "code",
   "execution_count": 31,
   "id": "dd98b6a2",
   "metadata": {},
   "outputs": [],
   "source": [
    "# # --- Visualize the result ---\n",
    "# plt.figure(figsize=(14, 7))\n",
    "# plt.plot(train_data.index, train_data['logged_births'], label='Training Data')\n",
    "# plt.plot(validation_data_handled.index, validation_data_handled['logged_births'], label='Validation Data (Handled)', color='orange')\n",
    "# plt.plot(test_data.index, test_data['logged_births'], label='Test Data', color='green')\n",
    "# plt.title(\"Data Split After Handling the 2020 Anomaly\")\n",
    "# plt.xlabel(\"Date\")\n",
    "# plt.ylabel(\"Logged Births (Sum)\")\n",
    "# plt.legend()\n",
    "# plt.show()"
   ]
  },
  {
   "cell_type": "code",
   "execution_count": 32,
   "id": "0aee5120",
   "metadata": {},
   "outputs": [],
   "source": [
    "# validation_data_handled.head(20)"
   ]
  },
  {
   "cell_type": "markdown",
   "id": "f16a05e2",
   "metadata": {},
   "source": [
    "# 5 : Feature Engineering"
   ]
  },
  {
   "cell_type": "markdown",
   "id": "57c06c89",
   "metadata": {},
   "source": [
    "### 5.1 : Create Time Embeddings \n",
    "Now the need is to cfeate the time embeddings for :\n",
    " - Month of the year\n",
    " - Year of the series\n",
    "This will help our model to understand the seasonality of our data like birth rate was higher in june or birth date decrease after 2010 etc.\n",
    "\n",
    "Why necessary ? \n",
    "- Our deep learning models do not understand that 1990-2-1 comes after 1990-1-1 , we have to explicitly tell the model about all these things."
   ]
  },
  {
   "cell_type": "code",
   "execution_count": 33,
   "id": "294c9b49",
   "metadata": {},
   "outputs": [],
   "source": [
    "def create_time_features(df):\n",
    "    \n",
    "    \"\"\"\n",
    "    create time based and exogenous features from a datetime index\n",
    "    \"\"\"\n",
    "    \n",
    "    df = df.copy()\n",
    "    #creating time embeddings\n",
    "     \n",
    "    df[\"Month\"] = df.index.month\n",
    "    df[\"Year\"] = df.index.year\n",
    "    df[\"Quarter\"] =df.index.quarter\n",
    "    \n",
    "    #creating exogeneous features\n",
    "    df[\"covid_lockdown_indicator\"] = 0\n",
    "    lockdown_starts = \"2020-3-1\"\n",
    "    lockdown_ends = \"2020-6-1\"\n",
    "    \n",
    "    df.loc[(df.index >= lockdown_starts) & (df.index <= lockdown_ends), 'covid_lockdown_indicator'] = 1\n",
    "    \n",
    "    return df\n",
    "\n",
    "    \n",
    "    \n",
    "    "
   ]
  },
  {
   "cell_type": "code",
   "execution_count": 34,
   "id": "84be579b",
   "metadata": {},
   "outputs": [
    {
     "data": {
      "text/html": [
       "<div>\n",
       "<style scoped>\n",
       "    .dataframe tbody tr th:only-of-type {\n",
       "        vertical-align: middle;\n",
       "    }\n",
       "\n",
       "    .dataframe tbody tr th {\n",
       "        vertical-align: top;\n",
       "    }\n",
       "\n",
       "    .dataframe thead th {\n",
       "        text-align: right;\n",
       "    }\n",
       "</style>\n",
       "<table border=\"1\" class=\"dataframe\">\n",
       "  <thead>\n",
       "    <tr style=\"text-align: right;\">\n",
       "      <th></th>\n",
       "      <th>logged_births</th>\n",
       "      <th>Month</th>\n",
       "      <th>Year</th>\n",
       "      <th>Quarter</th>\n",
       "      <th>covid_lockdown_indicator</th>\n",
       "    </tr>\n",
       "  </thead>\n",
       "  <tbody>\n",
       "    <tr>\n",
       "      <th>1998-01-01</th>\n",
       "      <td>73.260945</td>\n",
       "      <td>1</td>\n",
       "      <td>1998</td>\n",
       "      <td>1</td>\n",
       "      <td>0</td>\n",
       "    </tr>\n",
       "    <tr>\n",
       "      <th>1998-02-01</th>\n",
       "      <td>71.674430</td>\n",
       "      <td>2</td>\n",
       "      <td>1998</td>\n",
       "      <td>1</td>\n",
       "      <td>0</td>\n",
       "    </tr>\n",
       "    <tr>\n",
       "      <th>1998-03-01</th>\n",
       "      <td>73.869008</td>\n",
       "      <td>3</td>\n",
       "      <td>1998</td>\n",
       "      <td>1</td>\n",
       "      <td>0</td>\n",
       "    </tr>\n",
       "    <tr>\n",
       "      <th>1998-04-01</th>\n",
       "      <td>73.587263</td>\n",
       "      <td>4</td>\n",
       "      <td>1998</td>\n",
       "      <td>2</td>\n",
       "      <td>0</td>\n",
       "    </tr>\n",
       "    <tr>\n",
       "      <th>1998-05-01</th>\n",
       "      <td>72.689822</td>\n",
       "      <td>5</td>\n",
       "      <td>1998</td>\n",
       "      <td>2</td>\n",
       "      <td>0</td>\n",
       "    </tr>\n",
       "    <tr>\n",
       "      <th>...</th>\n",
       "      <td>...</td>\n",
       "      <td>...</td>\n",
       "      <td>...</td>\n",
       "      <td>...</td>\n",
       "      <td>...</td>\n",
       "    </tr>\n",
       "    <tr>\n",
       "      <th>2018-08-01</th>\n",
       "      <td>72.160435</td>\n",
       "      <td>8</td>\n",
       "      <td>2018</td>\n",
       "      <td>3</td>\n",
       "      <td>0</td>\n",
       "    </tr>\n",
       "    <tr>\n",
       "      <th>2018-09-01</th>\n",
       "      <td>70.955273</td>\n",
       "      <td>9</td>\n",
       "      <td>2018</td>\n",
       "      <td>3</td>\n",
       "      <td>0</td>\n",
       "    </tr>\n",
       "    <tr>\n",
       "      <th>2018-10-01</th>\n",
       "      <td>72.060627</td>\n",
       "      <td>10</td>\n",
       "      <td>2018</td>\n",
       "      <td>4</td>\n",
       "      <td>0</td>\n",
       "    </tr>\n",
       "    <tr>\n",
       "      <th>2018-11-01</th>\n",
       "      <td>71.027725</td>\n",
       "      <td>11</td>\n",
       "      <td>2018</td>\n",
       "      <td>4</td>\n",
       "      <td>0</td>\n",
       "    </tr>\n",
       "    <tr>\n",
       "      <th>2018-12-01</th>\n",
       "      <td>68.150108</td>\n",
       "      <td>12</td>\n",
       "      <td>2018</td>\n",
       "      <td>4</td>\n",
       "      <td>0</td>\n",
       "    </tr>\n",
       "  </tbody>\n",
       "</table>\n",
       "<p>252 rows × 5 columns</p>\n",
       "</div>"
      ],
      "text/plain": [
       "            logged_births  Month  Year  Quarter  covid_lockdown_indicator\n",
       "1998-01-01      73.260945      1  1998        1                         0\n",
       "1998-02-01      71.674430      2  1998        1                         0\n",
       "1998-03-01      73.869008      3  1998        1                         0\n",
       "1998-04-01      73.587263      4  1998        2                         0\n",
       "1998-05-01      72.689822      5  1998        2                         0\n",
       "...                   ...    ...   ...      ...                       ...\n",
       "2018-08-01      72.160435      8  2018        3                         0\n",
       "2018-09-01      70.955273      9  2018        3                         0\n",
       "2018-10-01      72.060627     10  2018        4                         0\n",
       "2018-11-01      71.027725     11  2018        4                         0\n",
       "2018-12-01      68.150108     12  2018        4                         0\n",
       "\n",
       "[252 rows x 5 columns]"
      ]
     },
     "execution_count": 34,
     "metadata": {},
     "output_type": "execute_result"
    }
   ],
   "source": [
    "train_featured = create_time_features(train_data)\n",
    "validation_featured = create_time_features(validation_data) \n",
    "test_featured = create_time_features(test_data)\n",
    "train_featured"
   ]
  },
  {
   "cell_type": "code",
   "execution_count": 35,
   "id": "ab97f17f",
   "metadata": {},
   "outputs": [
    {
     "data": {
      "text/html": [
       "<div>\n",
       "<style scoped>\n",
       "    .dataframe tbody tr th:only-of-type {\n",
       "        vertical-align: middle;\n",
       "    }\n",
       "\n",
       "    .dataframe tbody tr th {\n",
       "        vertical-align: top;\n",
       "    }\n",
       "\n",
       "    .dataframe thead th {\n",
       "        text-align: right;\n",
       "    }\n",
       "</style>\n",
       "<table border=\"1\" class=\"dataframe\">\n",
       "  <thead>\n",
       "    <tr style=\"text-align: right;\">\n",
       "      <th></th>\n",
       "      <th>logged_births</th>\n",
       "      <th>Month</th>\n",
       "      <th>Year</th>\n",
       "      <th>Quarter</th>\n",
       "      <th>covid_lockdown_indicator</th>\n",
       "    </tr>\n",
       "  </thead>\n",
       "  <tbody>\n",
       "    <tr>\n",
       "      <th>2019-01-01</th>\n",
       "      <td>73.129732</td>\n",
       "      <td>1</td>\n",
       "      <td>2019</td>\n",
       "      <td>1</td>\n",
       "      <td>0</td>\n",
       "    </tr>\n",
       "    <tr>\n",
       "      <th>2019-02-01</th>\n",
       "      <td>69.590613</td>\n",
       "      <td>2</td>\n",
       "      <td>2019</td>\n",
       "      <td>1</td>\n",
       "      <td>0</td>\n",
       "    </tr>\n",
       "    <tr>\n",
       "      <th>2019-03-01</th>\n",
       "      <td>69.812721</td>\n",
       "      <td>3</td>\n",
       "      <td>2019</td>\n",
       "      <td>1</td>\n",
       "      <td>0</td>\n",
       "    </tr>\n",
       "    <tr>\n",
       "      <th>2019-04-01</th>\n",
       "      <td>70.133445</td>\n",
       "      <td>4</td>\n",
       "      <td>2019</td>\n",
       "      <td>2</td>\n",
       "      <td>0</td>\n",
       "    </tr>\n",
       "    <tr>\n",
       "      <th>2019-05-01</th>\n",
       "      <td>72.016682</td>\n",
       "      <td>5</td>\n",
       "      <td>2019</td>\n",
       "      <td>2</td>\n",
       "      <td>0</td>\n",
       "    </tr>\n",
       "    <tr>\n",
       "      <th>2019-06-01</th>\n",
       "      <td>70.060966</td>\n",
       "      <td>6</td>\n",
       "      <td>2019</td>\n",
       "      <td>2</td>\n",
       "      <td>0</td>\n",
       "    </tr>\n",
       "    <tr>\n",
       "      <th>2019-07-01</th>\n",
       "      <td>72.345593</td>\n",
       "      <td>7</td>\n",
       "      <td>2019</td>\n",
       "      <td>3</td>\n",
       "      <td>0</td>\n",
       "    </tr>\n",
       "    <tr>\n",
       "      <th>2019-08-01</th>\n",
       "      <td>71.957612</td>\n",
       "      <td>8</td>\n",
       "      <td>2019</td>\n",
       "      <td>3</td>\n",
       "      <td>0</td>\n",
       "    </tr>\n",
       "    <tr>\n",
       "      <th>2019-09-01</th>\n",
       "      <td>71.442244</td>\n",
       "      <td>9</td>\n",
       "      <td>2019</td>\n",
       "      <td>3</td>\n",
       "      <td>0</td>\n",
       "    </tr>\n",
       "    <tr>\n",
       "      <th>2019-10-01</th>\n",
       "      <td>72.035764</td>\n",
       "      <td>10</td>\n",
       "      <td>2019</td>\n",
       "      <td>4</td>\n",
       "      <td>0</td>\n",
       "    </tr>\n",
       "    <tr>\n",
       "      <th>2019-11-01</th>\n",
       "      <td>69.466543</td>\n",
       "      <td>11</td>\n",
       "      <td>2019</td>\n",
       "      <td>4</td>\n",
       "      <td>0</td>\n",
       "    </tr>\n",
       "    <tr>\n",
       "      <th>2019-12-01</th>\n",
       "      <td>68.199575</td>\n",
       "      <td>12</td>\n",
       "      <td>2019</td>\n",
       "      <td>4</td>\n",
       "      <td>0</td>\n",
       "    </tr>\n",
       "    <tr>\n",
       "      <th>2020-01-01</th>\n",
       "      <td>72.408793</td>\n",
       "      <td>1</td>\n",
       "      <td>2020</td>\n",
       "      <td>1</td>\n",
       "      <td>0</td>\n",
       "    </tr>\n",
       "    <tr>\n",
       "      <th>2020-02-01</th>\n",
       "      <td>69.419846</td>\n",
       "      <td>2</td>\n",
       "      <td>2020</td>\n",
       "      <td>1</td>\n",
       "      <td>0</td>\n",
       "    </tr>\n",
       "    <tr>\n",
       "      <th>2020-03-01</th>\n",
       "      <td>65.695658</td>\n",
       "      <td>3</td>\n",
       "      <td>2020</td>\n",
       "      <td>1</td>\n",
       "      <td>1</td>\n",
       "    </tr>\n",
       "    <tr>\n",
       "      <th>2020-04-01</th>\n",
       "      <td>36.817943</td>\n",
       "      <td>4</td>\n",
       "      <td>2020</td>\n",
       "      <td>2</td>\n",
       "      <td>1</td>\n",
       "    </tr>\n",
       "    <tr>\n",
       "      <th>2020-05-01</th>\n",
       "      <td>7.940228</td>\n",
       "      <td>5</td>\n",
       "      <td>2020</td>\n",
       "      <td>2</td>\n",
       "      <td>1</td>\n",
       "    </tr>\n",
       "    <tr>\n",
       "      <th>2020-06-01</th>\n",
       "      <td>47.390829</td>\n",
       "      <td>6</td>\n",
       "      <td>2020</td>\n",
       "      <td>2</td>\n",
       "      <td>1</td>\n",
       "    </tr>\n",
       "    <tr>\n",
       "      <th>2020-07-01</th>\n",
       "      <td>83.186090</td>\n",
       "      <td>7</td>\n",
       "      <td>2020</td>\n",
       "      <td>3</td>\n",
       "      <td>0</td>\n",
       "    </tr>\n",
       "    <tr>\n",
       "      <th>2020-08-01</th>\n",
       "      <td>76.532691</td>\n",
       "      <td>8</td>\n",
       "      <td>2020</td>\n",
       "      <td>3</td>\n",
       "      <td>0</td>\n",
       "    </tr>\n",
       "    <tr>\n",
       "      <th>2020-09-01</th>\n",
       "      <td>75.134828</td>\n",
       "      <td>9</td>\n",
       "      <td>2020</td>\n",
       "      <td>3</td>\n",
       "      <td>0</td>\n",
       "    </tr>\n",
       "    <tr>\n",
       "      <th>2020-10-01</th>\n",
       "      <td>72.478116</td>\n",
       "      <td>10</td>\n",
       "      <td>2020</td>\n",
       "      <td>4</td>\n",
       "      <td>0</td>\n",
       "    </tr>\n",
       "    <tr>\n",
       "      <th>2020-11-01</th>\n",
       "      <td>70.952224</td>\n",
       "      <td>11</td>\n",
       "      <td>2020</td>\n",
       "      <td>4</td>\n",
       "      <td>0</td>\n",
       "    </tr>\n",
       "    <tr>\n",
       "      <th>2020-12-01</th>\n",
       "      <td>67.365245</td>\n",
       "      <td>12</td>\n",
       "      <td>2020</td>\n",
       "      <td>4</td>\n",
       "      <td>0</td>\n",
       "    </tr>\n",
       "  </tbody>\n",
       "</table>\n",
       "</div>"
      ],
      "text/plain": [
       "            logged_births  Month  Year  Quarter  covid_lockdown_indicator\n",
       "2019-01-01      73.129732      1  2019        1                         0\n",
       "2019-02-01      69.590613      2  2019        1                         0\n",
       "2019-03-01      69.812721      3  2019        1                         0\n",
       "2019-04-01      70.133445      4  2019        2                         0\n",
       "2019-05-01      72.016682      5  2019        2                         0\n",
       "2019-06-01      70.060966      6  2019        2                         0\n",
       "2019-07-01      72.345593      7  2019        3                         0\n",
       "2019-08-01      71.957612      8  2019        3                         0\n",
       "2019-09-01      71.442244      9  2019        3                         0\n",
       "2019-10-01      72.035764     10  2019        4                         0\n",
       "2019-11-01      69.466543     11  2019        4                         0\n",
       "2019-12-01      68.199575     12  2019        4                         0\n",
       "2020-01-01      72.408793      1  2020        1                         0\n",
       "2020-02-01      69.419846      2  2020        1                         0\n",
       "2020-03-01      65.695658      3  2020        1                         1\n",
       "2020-04-01      36.817943      4  2020        2                         1\n",
       "2020-05-01       7.940228      5  2020        2                         1\n",
       "2020-06-01      47.390829      6  2020        2                         1\n",
       "2020-07-01      83.186090      7  2020        3                         0\n",
       "2020-08-01      76.532691      8  2020        3                         0\n",
       "2020-09-01      75.134828      9  2020        3                         0\n",
       "2020-10-01      72.478116     10  2020        4                         0\n",
       "2020-11-01      70.952224     11  2020        4                         0\n",
       "2020-12-01      67.365245     12  2020        4                         0"
      ]
     },
     "execution_count": 35,
     "metadata": {},
     "output_type": "execute_result"
    }
   ],
   "source": [
    "validation_featured"
   ]
  },
  {
   "cell_type": "markdown",
   "id": "573c87a7",
   "metadata": {},
   "source": [
    "# 6: Model Building - Statistical Baseline , ARIMA Model\n",
    "\n",
    "Creating a strong baseline with the traditional model is essential to prove that the complexity of deep learning models is actually providing the benefit.\n",
    "\n",
    "### 6.1 ARIMA Model :\n",
    "- It stands for Auto Regressive Integrated MOving Average model . \n",
    "- It is on of the most widely used statistical model in the time series forecasting.\n",
    "- While implementing the ARIMA , we need to find the optimal values for three parameters (p,d,q).\n",
    "- p is the number of past values the current values we need to consider for finding the current value.\n",
    "- d is the number time the value is differenced from the past values.\n",
    "- q is the size of the moving average window.\n",
    "- we have to find the optimal values of these parameters before we start building the model.\n",
    "- A function `auto_arima` provided by the `pmdarima` libarary is used to find these values."
   ]
  },
  {
   "cell_type": "code",
   "execution_count": 36,
   "id": "837bbbbf",
   "metadata": {},
   "outputs": [],
   "source": [
    "import pmdarima as pm"
   ]
  },
  {
   "cell_type": "code",
   "execution_count": 37,
   "id": "8bad19ae",
   "metadata": {},
   "outputs": [
    {
     "name": "stderr",
     "output_type": "stream",
     "text": [
      "c:\\Users\\PMLS\\anaconda3\\envs\\scotland_project\\Lib\\site-packages\\sklearn\\utils\\deprecation.py:132: FutureWarning: 'force_all_finite' was renamed to 'ensure_all_finite' in 1.6 and will be removed in 1.8.\n",
      "  warnings.warn(\n",
      "c:\\Users\\PMLS\\anaconda3\\envs\\scotland_project\\Lib\\site-packages\\sklearn\\utils\\deprecation.py:132: FutureWarning: 'force_all_finite' was renamed to 'ensure_all_finite' in 1.6 and will be removed in 1.8.\n",
      "  warnings.warn(\n",
      "c:\\Users\\PMLS\\anaconda3\\envs\\scotland_project\\Lib\\site-packages\\sklearn\\utils\\deprecation.py:132: FutureWarning: 'force_all_finite' was renamed to 'ensure_all_finite' in 1.6 and will be removed in 1.8.\n",
      "  warnings.warn(\n",
      "c:\\Users\\PMLS\\anaconda3\\envs\\scotland_project\\Lib\\site-packages\\sklearn\\utils\\deprecation.py:132: FutureWarning: 'force_all_finite' was renamed to 'ensure_all_finite' in 1.6 and will be removed in 1.8.\n",
      "  warnings.warn(\n",
      "c:\\Users\\PMLS\\anaconda3\\envs\\scotland_project\\Lib\\site-packages\\sklearn\\utils\\deprecation.py:132: FutureWarning: 'force_all_finite' was renamed to 'ensure_all_finite' in 1.6 and will be removed in 1.8.\n",
      "  warnings.warn(\n",
      "c:\\Users\\PMLS\\anaconda3\\envs\\scotland_project\\Lib\\site-packages\\sklearn\\utils\\deprecation.py:132: FutureWarning: 'force_all_finite' was renamed to 'ensure_all_finite' in 1.6 and will be removed in 1.8.\n",
      "  warnings.warn(\n",
      "c:\\Users\\PMLS\\anaconda3\\envs\\scotland_project\\Lib\\site-packages\\sklearn\\utils\\deprecation.py:132: FutureWarning: 'force_all_finite' was renamed to 'ensure_all_finite' in 1.6 and will be removed in 1.8.\n",
      "  warnings.warn(\n",
      "c:\\Users\\PMLS\\anaconda3\\envs\\scotland_project\\Lib\\site-packages\\sklearn\\utils\\deprecation.py:132: FutureWarning: 'force_all_finite' was renamed to 'ensure_all_finite' in 1.6 and will be removed in 1.8.\n",
      "  warnings.warn(\n",
      "c:\\Users\\PMLS\\anaconda3\\envs\\scotland_project\\Lib\\site-packages\\sklearn\\utils\\deprecation.py:132: FutureWarning: 'force_all_finite' was renamed to 'ensure_all_finite' in 1.6 and will be removed in 1.8.\n",
      "  warnings.warn(\n",
      "c:\\Users\\PMLS\\anaconda3\\envs\\scotland_project\\Lib\\site-packages\\sklearn\\utils\\deprecation.py:132: FutureWarning: 'force_all_finite' was renamed to 'ensure_all_finite' in 1.6 and will be removed in 1.8.\n",
      "  warnings.warn(\n",
      "c:\\Users\\PMLS\\anaconda3\\envs\\scotland_project\\Lib\\site-packages\\sklearn\\utils\\deprecation.py:132: FutureWarning: 'force_all_finite' was renamed to 'ensure_all_finite' in 1.6 and will be removed in 1.8.\n",
      "  warnings.warn(\n",
      "c:\\Users\\PMLS\\anaconda3\\envs\\scotland_project\\Lib\\site-packages\\sklearn\\utils\\deprecation.py:132: FutureWarning: 'force_all_finite' was renamed to 'ensure_all_finite' in 1.6 and will be removed in 1.8.\n",
      "  warnings.warn(\n",
      "c:\\Users\\PMLS\\anaconda3\\envs\\scotland_project\\Lib\\site-packages\\sklearn\\utils\\deprecation.py:132: FutureWarning: 'force_all_finite' was renamed to 'ensure_all_finite' in 1.6 and will be removed in 1.8.\n",
      "  warnings.warn(\n",
      "c:\\Users\\PMLS\\anaconda3\\envs\\scotland_project\\Lib\\site-packages\\sklearn\\utils\\deprecation.py:132: FutureWarning: 'force_all_finite' was renamed to 'ensure_all_finite' in 1.6 and will be removed in 1.8.\n",
      "  warnings.warn(\n",
      "c:\\Users\\PMLS\\anaconda3\\envs\\scotland_project\\Lib\\site-packages\\sklearn\\utils\\deprecation.py:132: FutureWarning: 'force_all_finite' was renamed to 'ensure_all_finite' in 1.6 and will be removed in 1.8.\n",
      "  warnings.warn(\n",
      "c:\\Users\\PMLS\\anaconda3\\envs\\scotland_project\\Lib\\site-packages\\sklearn\\utils\\deprecation.py:132: FutureWarning: 'force_all_finite' was renamed to 'ensure_all_finite' in 1.6 and will be removed in 1.8.\n",
      "  warnings.warn(\n",
      "c:\\Users\\PMLS\\anaconda3\\envs\\scotland_project\\Lib\\site-packages\\sklearn\\utils\\deprecation.py:132: FutureWarning: 'force_all_finite' was renamed to 'ensure_all_finite' in 1.6 and will be removed in 1.8.\n",
      "  warnings.warn(\n",
      "c:\\Users\\PMLS\\anaconda3\\envs\\scotland_project\\Lib\\site-packages\\sklearn\\utils\\deprecation.py:132: FutureWarning: 'force_all_finite' was renamed to 'ensure_all_finite' in 1.6 and will be removed in 1.8.\n",
      "  warnings.warn(\n",
      "c:\\Users\\PMLS\\anaconda3\\envs\\scotland_project\\Lib\\site-packages\\sklearn\\utils\\deprecation.py:132: FutureWarning: 'force_all_finite' was renamed to 'ensure_all_finite' in 1.6 and will be removed in 1.8.\n",
      "  warnings.warn(\n",
      "c:\\Users\\PMLS\\anaconda3\\envs\\scotland_project\\Lib\\site-packages\\sklearn\\utils\\deprecation.py:132: FutureWarning: 'force_all_finite' was renamed to 'ensure_all_finite' in 1.6 and will be removed in 1.8.\n",
      "  warnings.warn(\n",
      "c:\\Users\\PMLS\\anaconda3\\envs\\scotland_project\\Lib\\site-packages\\sklearn\\utils\\deprecation.py:132: FutureWarning: 'force_all_finite' was renamed to 'ensure_all_finite' in 1.6 and will be removed in 1.8.\n",
      "  warnings.warn(\n",
      "c:\\Users\\PMLS\\anaconda3\\envs\\scotland_project\\Lib\\site-packages\\sklearn\\utils\\deprecation.py:132: FutureWarning: 'force_all_finite' was renamed to 'ensure_all_finite' in 1.6 and will be removed in 1.8.\n",
      "  warnings.warn(\n"
     ]
    },
    {
     "name": "stdout",
     "output_type": "stream",
     "text": [
      "Performing stepwise search to minimize aic\n",
      " ARIMA(1,0,1)(0,1,1)[12] intercept   : AIC=inf, Time=1.21 sec\n",
      " ARIMA(0,0,0)(0,1,0)[12] intercept   : AIC=670.380, Time=0.06 sec\n"
     ]
    },
    {
     "name": "stderr",
     "output_type": "stream",
     "text": [
      "c:\\Users\\PMLS\\anaconda3\\envs\\scotland_project\\Lib\\site-packages\\sklearn\\utils\\deprecation.py:132: FutureWarning: 'force_all_finite' was renamed to 'ensure_all_finite' in 1.6 and will be removed in 1.8.\n",
      "  warnings.warn(\n",
      "c:\\Users\\PMLS\\anaconda3\\envs\\scotland_project\\Lib\\site-packages\\sklearn\\utils\\deprecation.py:132: FutureWarning: 'force_all_finite' was renamed to 'ensure_all_finite' in 1.6 and will be removed in 1.8.\n",
      "  warnings.warn(\n"
     ]
    },
    {
     "name": "stdout",
     "output_type": "stream",
     "text": [
      " ARIMA(1,0,0)(1,1,0)[12] intercept   : AIC=667.500, Time=0.15 sec\n"
     ]
    },
    {
     "name": "stderr",
     "output_type": "stream",
     "text": [
      "c:\\Users\\PMLS\\anaconda3\\envs\\scotland_project\\Lib\\site-packages\\sklearn\\utils\\deprecation.py:132: FutureWarning: 'force_all_finite' was renamed to 'ensure_all_finite' in 1.6 and will be removed in 1.8.\n",
      "  warnings.warn(\n"
     ]
    },
    {
     "name": "stdout",
     "output_type": "stream",
     "text": [
      " ARIMA(0,0,1)(0,1,1)[12] intercept   : AIC=665.178, Time=0.30 sec\n",
      " ARIMA(0,0,0)(0,1,0)[12]             : AIC=670.949, Time=0.03 sec\n",
      " ARIMA(0,0,1)(0,1,0)[12] intercept   : AIC=672.312, Time=0.06 sec\n"
     ]
    },
    {
     "name": "stderr",
     "output_type": "stream",
     "text": [
      "c:\\Users\\PMLS\\anaconda3\\envs\\scotland_project\\Lib\\site-packages\\sklearn\\utils\\deprecation.py:132: FutureWarning: 'force_all_finite' was renamed to 'ensure_all_finite' in 1.6 and will be removed in 1.8.\n",
      "  warnings.warn(\n",
      "c:\\Users\\PMLS\\anaconda3\\envs\\scotland_project\\Lib\\site-packages\\sklearn\\utils\\deprecation.py:132: FutureWarning: 'force_all_finite' was renamed to 'ensure_all_finite' in 1.6 and will be removed in 1.8.\n",
      "  warnings.warn(\n",
      "c:\\Users\\PMLS\\anaconda3\\envs\\scotland_project\\Lib\\site-packages\\sklearn\\utils\\deprecation.py:132: FutureWarning: 'force_all_finite' was renamed to 'ensure_all_finite' in 1.6 and will be removed in 1.8.\n",
      "  warnings.warn(\n"
     ]
    },
    {
     "name": "stdout",
     "output_type": "stream",
     "text": [
      " ARIMA(0,0,1)(1,1,1)[12] intercept   : AIC=inf, Time=0.87 sec\n"
     ]
    },
    {
     "name": "stderr",
     "output_type": "stream",
     "text": [
      "c:\\Users\\PMLS\\anaconda3\\envs\\scotland_project\\Lib\\site-packages\\sklearn\\utils\\deprecation.py:132: FutureWarning: 'force_all_finite' was renamed to 'ensure_all_finite' in 1.6 and will be removed in 1.8.\n",
      "  warnings.warn(\n"
     ]
    },
    {
     "name": "stdout",
     "output_type": "stream",
     "text": [
      " ARIMA(0,0,1)(0,1,2)[12] intercept   : AIC=inf, Time=1.79 sec\n",
      " ARIMA(0,0,1)(1,1,0)[12] intercept   : AIC=667.506, Time=0.11 sec\n"
     ]
    },
    {
     "name": "stderr",
     "output_type": "stream",
     "text": [
      "c:\\Users\\PMLS\\anaconda3\\envs\\scotland_project\\Lib\\site-packages\\sklearn\\utils\\deprecation.py:132: FutureWarning: 'force_all_finite' was renamed to 'ensure_all_finite' in 1.6 and will be removed in 1.8.\n",
      "  warnings.warn(\n",
      "c:\\Users\\PMLS\\anaconda3\\envs\\scotland_project\\Lib\\site-packages\\sklearn\\utils\\deprecation.py:132: FutureWarning: 'force_all_finite' was renamed to 'ensure_all_finite' in 1.6 and will be removed in 1.8.\n",
      "  warnings.warn(\n"
     ]
    },
    {
     "name": "stdout",
     "output_type": "stream",
     "text": [
      " ARIMA(0,0,1)(1,1,2)[12] intercept   : AIC=inf, Time=1.90 sec\n",
      " ARIMA(0,0,0)(0,1,1)[12] intercept   : AIC=663.429, Time=0.13 sec\n"
     ]
    },
    {
     "name": "stderr",
     "output_type": "stream",
     "text": [
      "c:\\Users\\PMLS\\anaconda3\\envs\\scotland_project\\Lib\\site-packages\\sklearn\\utils\\deprecation.py:132: FutureWarning: 'force_all_finite' was renamed to 'ensure_all_finite' in 1.6 and will be removed in 1.8.\n",
      "  warnings.warn(\n",
      "c:\\Users\\PMLS\\anaconda3\\envs\\scotland_project\\Lib\\site-packages\\sklearn\\utils\\deprecation.py:132: FutureWarning: 'force_all_finite' was renamed to 'ensure_all_finite' in 1.6 and will be removed in 1.8.\n",
      "  warnings.warn(\n"
     ]
    },
    {
     "name": "stdout",
     "output_type": "stream",
     "text": [
      " ARIMA(0,0,0)(1,1,1)[12] intercept   : AIC=inf, Time=0.66 sec\n"
     ]
    },
    {
     "name": "stderr",
     "output_type": "stream",
     "text": [
      "c:\\Users\\PMLS\\anaconda3\\envs\\scotland_project\\Lib\\site-packages\\sklearn\\utils\\deprecation.py:132: FutureWarning: 'force_all_finite' was renamed to 'ensure_all_finite' in 1.6 and will be removed in 1.8.\n",
      "  warnings.warn(\n"
     ]
    },
    {
     "name": "stdout",
     "output_type": "stream",
     "text": [
      " ARIMA(0,0,0)(0,1,2)[12] intercept   : AIC=658.572, Time=1.17 sec\n"
     ]
    },
    {
     "name": "stderr",
     "output_type": "stream",
     "text": [
      "c:\\Users\\PMLS\\anaconda3\\envs\\scotland_project\\Lib\\site-packages\\sklearn\\utils\\deprecation.py:132: FutureWarning: 'force_all_finite' was renamed to 'ensure_all_finite' in 1.6 and will be removed in 1.8.\n",
      "  warnings.warn(\n"
     ]
    },
    {
     "name": "stdout",
     "output_type": "stream",
     "text": [
      " ARIMA(0,0,0)(1,1,2)[12] intercept   : AIC=inf, Time=1.83 sec\n"
     ]
    },
    {
     "name": "stderr",
     "output_type": "stream",
     "text": [
      "c:\\Users\\PMLS\\anaconda3\\envs\\scotland_project\\Lib\\site-packages\\sklearn\\utils\\deprecation.py:132: FutureWarning: 'force_all_finite' was renamed to 'ensure_all_finite' in 1.6 and will be removed in 1.8.\n",
      "  warnings.warn(\n"
     ]
    },
    {
     "name": "stdout",
     "output_type": "stream",
     "text": [
      " ARIMA(1,0,0)(0,1,2)[12] intercept   : AIC=inf, Time=1.95 sec\n"
     ]
    },
    {
     "name": "stderr",
     "output_type": "stream",
     "text": [
      "c:\\Users\\PMLS\\anaconda3\\envs\\scotland_project\\Lib\\site-packages\\sklearn\\utils\\deprecation.py:132: FutureWarning: 'force_all_finite' was renamed to 'ensure_all_finite' in 1.6 and will be removed in 1.8.\n",
      "  warnings.warn(\n"
     ]
    },
    {
     "name": "stdout",
     "output_type": "stream",
     "text": [
      " ARIMA(1,0,1)(0,1,2)[12] intercept   : AIC=inf, Time=2.78 sec\n"
     ]
    },
    {
     "name": "stderr",
     "output_type": "stream",
     "text": [
      "c:\\Users\\PMLS\\anaconda3\\envs\\scotland_project\\Lib\\site-packages\\sklearn\\utils\\deprecation.py:132: FutureWarning: 'force_all_finite' was renamed to 'ensure_all_finite' in 1.6 and will be removed in 1.8.\n",
      "  warnings.warn(\n"
     ]
    },
    {
     "name": "stdout",
     "output_type": "stream",
     "text": [
      " ARIMA(0,0,0)(0,1,2)[12]             : AIC=659.444, Time=0.81 sec\n",
      "\n",
      "Best model:  ARIMA(0,0,0)(0,1,2)[12] intercept\n",
      "Total fit time: 15.859 seconds\n",
      "\n",
      "--- Auto ARIMA Results ---\n",
      "                                   SARIMAX Results                                   \n",
      "=====================================================================================\n",
      "Dep. Variable:                             y   No. Observations:                  252\n",
      "Model:             SARIMAX(0, 1, [1, 2], 12)   Log Likelihood                -325.286\n",
      "Date:                       Thu, 31 Jul 2025   AIC                            658.572\n",
      "Time:                               14:27:56   BIC                            672.495\n",
      "Sample:                           01-01-1998   HQIC                           664.182\n",
      "                                - 12-01-2018                                         \n",
      "Covariance Type:                         opg                                         \n",
      "==============================================================================\n",
      "                 coef    std err          z      P>|z|      [0.025      0.975]\n",
      "------------------------------------------------------------------------------\n",
      "intercept     -0.0554      0.033     -1.692      0.091      -0.120       0.009\n",
      "ma.S.L12      -0.2862      0.071     -4.014      0.000      -0.426      -0.146\n",
      "ma.S.L24      -0.2176      0.075     -2.888      0.004      -0.365      -0.070\n",
      "sigma2         0.8701      0.079     10.951      0.000       0.714       1.026\n",
      "===================================================================================\n",
      "Ljung-Box (L1) (Q):                   6.01   Jarque-Bera (JB):                 0.00\n",
      "Prob(Q):                              0.01   Prob(JB):                         1.00\n",
      "Heteroskedasticity (H):               1.08   Skew:                            -0.00\n",
      "Prob(H) (two-sided):                  0.74   Kurtosis:                         3.01\n",
      "===================================================================================\n",
      "\n",
      "Warnings:\n",
      "[1] Covariance matrix calculated using the outer product of gradients (complex-step).\n"
     ]
    }
   ],
   "source": [
    "\n",
    "# as auto_arima will find the optimal values based on the data we will provide.\n",
    "#thus creating the target data\n",
    "\n",
    "arima_train_data = train_featured[\"logged_births\"]\n",
    "\n",
    "auto_model = pm.auto_arima(arima_train_data,\n",
    "                           start_p=1, start_q=1,\n",
    "                           test='adf',       # Use the ADF test to find the best 'd'\n",
    "                           max_p=3, max_q=3, # Maximum p and q to test\n",
    "                           m=12,             # The frequency of the seasonality (12 months)\n",
    "                           d=None,           # Let the model determine 'd'\n",
    "                           seasonal=True,    # Enable seasonal search\n",
    "                           start_P=0,\n",
    "                           D=1,              # Enforce one seasonal difference\n",
    "                           trace=True,\n",
    "                           error_action='ignore',\n",
    "                           suppress_warnings=True,\n",
    "                           stepwise=True)\n",
    "\n",
    "\n",
    "print(\"\\n--- Auto ARIMA Results ---\")\n",
    "print(auto_model.summary())"
   ]
  },
  {
   "cell_type": "code",
   "execution_count": 38,
   "id": "0f19fec2",
   "metadata": {},
   "outputs": [
    {
     "name": "stdout",
     "output_type": "stream",
     "text": [
      "Best oder (p ,d , q) : (0, 0, 0)\n",
      "Best seasonal order (p , d , q , m) : (0, 1, 2, 12)\n"
     ]
    }
   ],
   "source": [
    "best_order = auto_model.order\n",
    "best_seasonal_order = auto_model.seasonal_order\n",
    "\n",
    "print(f\"Best oder (p ,d , q) : {best_order}\")\n",
    "print(f\"Best seasonal order (p , d , q , m) : {best_seasonal_order}\")"
   ]
  },
  {
   "cell_type": "markdown",
   "id": "47dc9737",
   "metadata": {},
   "source": [
    "### 6.2:  Train the ARIMA Model and Make Predictions\n",
    "`auto-arima()` method now had fornd the best parameters values for us . Now we need to train our model on full training data and evaluate and test it via validation and testing data respectively."
   ]
  },
  {
   "cell_type": "markdown",
   "id": "05f2b966",
   "metadata": {},
   "source": [
    "#### 6.2.1 Training"
   ]
  },
  {
   "cell_type": "code",
   "execution_count": 39,
   "id": "75450387",
   "metadata": {},
   "outputs": [
    {
     "name": "stdout",
     "output_type": "stream",
     "text": [
      "Training the SARIMAX with the best parameters values\n",
      "Done with model training\n"
     ]
    }
   ],
   "source": [
    "#Training\n",
    "\n",
    "from statsmodels.tsa.statespace.sarimax import SARIMAX\n",
    "\n",
    "print(\"Training the SARIMAX with the best parameters values\")\n",
    "model = SARIMAX(arima_train_data , order = best_order , seasonal_order = best_seasonal_order)\n",
    "\n",
    "model_fit = model.fit(disp=False)\n",
    "print(\"Done with model training\")"
   ]
  },
  {
   "cell_type": "markdown",
   "id": "9c6632c5",
   "metadata": {},
   "source": [
    "#### 6.2.2 Predictions"
   ]
  },
  {
   "cell_type": "code",
   "execution_count": 40,
   "id": "e987cb09",
   "metadata": {},
   "outputs": [
    {
     "name": "stdout",
     "output_type": "stream",
     "text": [
      "forecasting 48 steps in the future----\n",
      "Done with forecasting.\n"
     ]
    }
   ],
   "source": [
    "# predictions \n",
    "\n",
    "#we need to forecast for the lenght of the valiadtion and the test data combined\n",
    "n_forecast_steps = len(validation_featured) + len(test_featured)\n",
    "print(f\"forecasting {n_forecast_steps} steps in the future----\")\n",
    "\n",
    "#get the forecast predictions and confidence interval\n",
    "forecast = model_fit.get_forecast(steps = n_forecast_steps)\n",
    "forecast_predictions = forecast.predicted_mean\n",
    "\n",
    "#get the forecast index\n",
    "\n",
    "forecast_index = pd.date_range(start = validation_featured.index.min() ,\n",
    "                               periods= n_forecast_steps ,\n",
    "                               freq = 'MS')\n",
    "\n",
    "#combine the index nad the forecast predictions into pandas series\n",
    "forecast_series = pd.Series(forecast_predictions.values , index = forecast_index)\n",
    "print(\"Done with forecasting.\")\n"
   ]
  },
  {
   "cell_type": "markdown",
   "id": "1cee1478",
   "metadata": {},
   "source": [
    "#### 6.2.3 Evaluation"
   ]
  },
  {
   "cell_type": "code",
   "execution_count": 41,
   "id": "d6ff33f8",
   "metadata": {},
   "outputs": [
    {
     "data": {
      "image/png": "[encoded data removed]",
      "text/plain": [
       "<Figure size 1400x700 with 1 Axes>"
      ]
     },
     "metadata": {},
     "output_type": "display_data"
    }
   ],
   "source": [
    "#visiualizing the predictions\n",
    "plt.figure(figsize=(14,7))\n",
    "plt.plot(train_featured.index , train_featured[\"logged_births\"] , label = \"Training Data\")\n",
    "plt.plot(validation_featured.index , validation_featured[\"logged_births\"] , label = \" Actual Validation data Data\" , color = \"green\")\n",
    "plt.plot(test_featured.index , test_featured[\"logged_births\"] , label = \"Actual Testing Data\" , color = \"yellow\")\n",
    "plt.plot(forecast_series.index , forecast_series.values , label = \"Predictions\" , color = \"red\" , linestyle=\"--\")\n",
    "\n",
    "plt.title(\"ARIMA Baseline Forecast Vs Actual Data\")\n",
    "\n",
    "plt.legend()\n",
    "plt.show()"
   ]
  },
  {
   "cell_type": "markdown",
   "id": "65e9111a",
   "metadata": {},
   "source": [
    "### 6.3 : Calculating Evaluation Metrics for the ARIMA Forecast\n",
    "Now it's time to quantify our ARIMA model by calculating the following accuracies:\n",
    "- MAE (difference between actual and predicted values)\n",
    "- RMAE (squared differences between actual and predicted values , penalizes larger difference more)\n",
    "- SMAPE ( A perscentage error that is less biased than MAPE , usefull for comparing the forecast accuracy across the time series with different scales)"
   ]
  },
  {
   "cell_type": "code",
   "execution_count": 42,
   "id": "497c492c",
   "metadata": {},
   "outputs": [
    {
     "name": "stdout",
     "output_type": "stream",
     "text": [
      "For validation Data :\n",
      "ARIMA MAE : 6.7430\n",
      "ARIMA RMSE : 16.0639\n",
      "ARIMA SMAPE : 13.24%\n",
      "For testing Data :\n",
      "ARIMA MAE : 2.0499\n",
      "ARIMA RMSE : 2.4585\n",
      "ARIMA SMAPE : 2.92%\n"
     ]
    }
   ],
   "source": [
    "from sklearn.metrics import mean_absolute_error , root_mean_squared_error\n",
    "\n",
    "#we will calculate the accuracy metrics for both the validation and test data separatly , \n",
    "#we need to find the vlaidation forecast and test forecast\n",
    "\n",
    "#separate the forecast for validation and test data\n",
    "arima_val_forecast = forecast_series.loc[validation_featured.index]\n",
    "arima_test_forecast = forecast_series.loc[test_featured.index]\n",
    "\n",
    "#get actual values \n",
    "val_actual = validation_featured[\"logged_births\"]\n",
    "test_actual = test_featured[\"logged_births\"]\n",
    "\n",
    "#creating the function to calculate the SMAPE\n",
    "def calculate_smape(y_true , y_pred):\n",
    "    \n",
    "    numerator = np.abs(y_pred - y_true)\n",
    "    denomenator = (np.abs(y_pred) + np.abs(y_true))/2\n",
    "    \n",
    "    return np.mean(numerator/denomenator) * 100\n",
    "\n",
    "    \n",
    "#----------------------------Calculating the acuuracy metrics for Validation data------------------------------#\n",
    "\n",
    "arima_MAE_val = mean_absolute_error(arima_val_forecast , val_actual)\n",
    "arima_RMSE_val = root_mean_squared_error(arima_val_forecast , val_actual)\n",
    "arima_smape_val = calculate_smape(arima_val_forecast , val_actual)\n",
    "\n",
    "print(f\"For validation Data :\\nARIMA MAE : {arima_MAE_val:.4f}\\nARIMA RMSE : {arima_RMSE_val:.4f}\\nARIMA SMAPE : {arima_smape_val:.2f}%\")\n",
    "\n",
    "#----------------------------Calculating the acuuracy metrics for Test data------------------------------#\n",
    "\n",
    "arima_MAE_test = mean_absolute_error(arima_test_forecast , test_actual)\n",
    "arima_RMSE_test = root_mean_squared_error(arima_test_forecast , test_actual)\n",
    "arima_smape_test = calculate_smape(arima_test_forecast , test_actual)\n",
    "\n",
    "print(f\"For testing Data :\\nARIMA MAE : {arima_MAE_test:.4f}\\nARIMA RMSE : {arima_RMSE_test:.4f}\\nARIMA SMAPE : {arima_smape_test:.2f}%\")"
   ]
  },
  {
   "cell_type": "markdown",
   "id": "e156fab8",
   "metadata": {},
   "source": [
    "#### 6.4 : Saving Results"
   ]
  },
  {
   "cell_type": "code",
   "execution_count": 43,
   "id": "3ae99355",
   "metadata": {},
   "outputs": [],
   "source": [
    "arima_results = {\n",
    "    \"MAE\" : arima_MAE_test,\n",
    "    \"RMSE\" :arima_RMSE_test,\n",
    "    \"SMAPE\" : arima_smape_test   \n",
    "}"
   ]
  },
  {
   "cell_type": "markdown",
   "id": "810f3461",
   "metadata": {},
   "source": [
    "\n",
    "**Note on ARIMA Performance:**\n",
    "\n",
    "The ARIMA model performs well on the stable test set (2.92% SMAPE) but fails significantly on the validation set (13.24% SMAPE). The model was trained on data from 1998-2018 and could not forecast the extreme anomaly in 2020 caused by the COVID-19 pandemic. This illustrates the weakness of ARIMA in handling unforeseen structural breaks in a time series."
   ]
  },
  {
   "cell_type": "markdown",
   "id": "d2835c35",
   "metadata": {},
   "source": [
    "# 7: Model Builing - Traditional ML Tree based Model , XGBOOST\n",
    "\n",
    "Now we 'll build our second baseline , this time a Machine Learning model , XGBOOST .It is tree based gradient boosting algorithm. It needs both features and labels unlike the statistical model , ARIMA.\n",
    "\n",
    "#### 7.1  Train XGBOOST Model"
   ]
  },
  {
   "cell_type": "code",
   "execution_count": 44,
   "id": "d547b4c2",
   "metadata": {},
   "outputs": [],
   "source": [
    "import xgboost as xgb"
   ]
  },
  {
   "cell_type": "code",
   "execution_count": 45,
   "id": "3622f827",
   "metadata": {},
   "outputs": [
    {
     "name": "stdout",
     "output_type": "stream",
     "text": [
      "Building the second baseline with XGBOOST \n",
      "[0]\tvalidation_0-rmse:1.23506\tvalidation_1-rmse:16.30536\n",
      "[100]\tvalidation_0-rmse:0.77210\tvalidation_1-rmse:16.07500\n",
      "[200]\tvalidation_0-rmse:0.60506\tvalidation_1-rmse:15.99366\n",
      "[300]\tvalidation_0-rmse:0.53283\tvalidation_1-rmse:15.97938\n",
      "[400]\tvalidation_0-rmse:0.48873\tvalidation_1-rmse:15.97174\n",
      "[500]\tvalidation_0-rmse:0.44615\tvalidation_1-rmse:15.96931\n",
      "[547]\tvalidation_0-rmse:0.43207\tvalidation_1-rmse:15.97093\n",
      "\n",
      "XGBOOST training is completed\n"
     ]
    }
   ],
   "source": [
    "print(\"Building the second baseline with XGBOOST \")\n",
    "\n",
    "#preapre the data accordingly\n",
    "Features = [\"Month\" ,\"Year\" , \"Quarter\" , \"covid_lockdown_indicator\"]\n",
    "Target = \"logged_births\"\n",
    "\n",
    "#Splitting the data into features (inputs) and target(outputs)\n",
    "\n",
    "#for training\n",
    "X_train = train_featured[Features]\n",
    "y_train = train_featured[Target]\n",
    "\n",
    "#for validation \n",
    "X_val = validation_featured[Features]\n",
    "y_val = validation_featured[Target]\n",
    "\n",
    "#for testing\n",
    "X_test = test_featured[Features]\n",
    "y_test = test_featured[Target]\n",
    "\n",
    "# Initialize and Train the XGBoost Model\n",
    "# We use some common default hyperparameters.\n",
    "# n_estimators is the number of trees in the forest.\n",
    "# early_stopping_rounds helps prevent overfitting by monitoring the validation loss.\n",
    "\n",
    "reg = xgb.XGBRegressor(n_estimators = 1000,\n",
    "                       early_stopping_rounds = 50,\n",
    "                       learning_rate = 0.01,\n",
    "                       random_state= 42)\n",
    "\n",
    "#train the model on the training data and use the valiadtion data to understand when to stop\n",
    "\n",
    "reg.fit(X_train , y_train ,\n",
    "        eval_set = [(X_train , y_train) , (X_val , y_val)],\n",
    "        verbose = 100 ) #print training progress after every 100 rounds\n",
    "\n",
    "print(\"\\nXGBOOST training is completed\")"
   ]
  },
  {
   "cell_type": "markdown",
   "id": "f377390a",
   "metadata": {},
   "source": [
    "#### 7.2 Making Prediction By XGBOOST"
   ]
  },
  {
   "cell_type": "code",
   "execution_count": 46,
   "id": "784747cc",
   "metadata": {},
   "outputs": [],
   "source": [
    "xgboost_test_pred = reg.predict(X_test)"
   ]
  },
  {
   "cell_type": "markdown",
   "id": "12663858",
   "metadata": {},
   "source": [
    "#### 7.3 evaluating the XGBOOST by Evaluating metrics"
   ]
  },
  {
   "cell_type": "code",
   "execution_count": 47,
   "id": "360bd3a1",
   "metadata": {},
   "outputs": [
    {
     "name": "stdout",
     "output_type": "stream",
     "text": [
      "For testing Data :\n",
      "XGBOOST MAE : 1.6680\n",
      "XGBOOST RMSE : 2.0703\n",
      "XGBOOST SMAPE : 2.38%\n"
     ]
    }
   ],
   "source": [
    "\n",
    "xgboost_MAE_test = mean_absolute_error(y_test , xgboost_test_pred)\n",
    "xgboost_RMSE_test = root_mean_squared_error(y_test , xgboost_test_pred)\n",
    "xgboost_SMAPE_test = calculate_smape(y_test , xgboost_test_pred)\n",
    "\n",
    "print(f\"For testing Data :\\nXGBOOST MAE : {xgboost_MAE_test:.4f}\\nXGBOOST RMSE : {xgboost_RMSE_test:.4f}\\nXGBOOST SMAPE : {xgboost_SMAPE_test:.2f}%\")"
   ]
  },
  {
   "cell_type": "code",
   "execution_count": 48,
   "id": "3a57c8c8",
   "metadata": {},
   "outputs": [
    {
     "data": {
      "image/png": "[encoded data removed]",
      "text/plain": [
       "<Figure size 1400x700 with 1 Axes>"
      ]
     },
     "metadata": {},
     "output_type": "display_data"
    }
   ],
   "source": [
    "#visiualizing the predictions\n",
    "plt.figure(figsize=(14,7))\n",
    "plt.plot(train_featured.index , train_featured[\"logged_births\"] , label = \"Training Data\")\n",
    "plt.plot(validation_featured.index , validation_featured[\"logged_births\"] , label = \" Actual Validation Data\" , color = \"green\")\n",
    "plt.plot(test_featured.index , test_featured[\"logged_births\"] , label = \"Actual Testing Data\" , color = \"yellow\")\n",
    "plt.plot( test_featured.index , xgboost_test_pred, label = \"Predictions\" , color = \"red\" , linestyle=\"--\")\n",
    "\n",
    "plt.title(\"XGBOOOST Baseline Forecast Vs Actual Data\")\n",
    "\n",
    "plt.legend()\n",
    "plt.show()"
   ]
  },
  {
   "cell_type": "markdown",
   "id": "5de3b6fd",
   "metadata": {},
   "source": [
    "#### 7.4 Storing the Result"
   ]
  },
  {
   "cell_type": "code",
   "execution_count": 49,
   "id": "7a4606a0",
   "metadata": {},
   "outputs": [],
   "source": [
    "xgboost_results = {\n",
    "    \"MAE\": xgboost_MAE_test,\n",
    "    \"RMSE\" : xgboost_RMSE_test,\n",
    "    \"SMAPE\" :xgboost_SMAPE_test\n",
    "}\n"
   ]
  },
  {
   "cell_type": "markdown",
   "id": "1cbd49b1",
   "metadata": {},
   "source": [
    "# 8 : Comparison between the Two Base Models\n"
   ]
  },
  {
   "cell_type": "code",
   "execution_count": 50,
   "id": "bd93b2cb",
   "metadata": {},
   "outputs": [],
   "source": [
    "base_results_df = pd.DataFrame({\n",
    "    \"ARIMA Results\" : arima_results,\n",
    "    \"XGBOOST Results\": xgboost_results\n",
    "})\n"
   ]
  },
  {
   "cell_type": "code",
   "execution_count": 51,
   "id": "07ee3e6f",
   "metadata": {},
   "outputs": [
    {
     "data": {
      "text/html": [
       "<div>\n",
       "<style scoped>\n",
       "    .dataframe tbody tr th:only-of-type {\n",
       "        vertical-align: middle;\n",
       "    }\n",
       "\n",
       "    .dataframe tbody tr th {\n",
       "        vertical-align: top;\n",
       "    }\n",
       "\n",
       "    .dataframe thead th {\n",
       "        text-align: right;\n",
       "    }\n",
       "</style>\n",
       "<table border=\"1\" class=\"dataframe\">\n",
       "  <thead>\n",
       "    <tr style=\"text-align: right;\">\n",
       "      <th></th>\n",
       "      <th>MAE</th>\n",
       "      <th>RMSE</th>\n",
       "      <th>SMAPE</th>\n",
       "    </tr>\n",
       "  </thead>\n",
       "  <tbody>\n",
       "    <tr>\n",
       "      <th>ARIMA Results</th>\n",
       "      <td>2.049861</td>\n",
       "      <td>2.458499</td>\n",
       "      <td>2.916179</td>\n",
       "    </tr>\n",
       "    <tr>\n",
       "      <th>XGBOOST Results</th>\n",
       "      <td>1.668012</td>\n",
       "      <td>2.070258</td>\n",
       "      <td>2.380042</td>\n",
       "    </tr>\n",
       "  </tbody>\n",
       "</table>\n",
       "</div>"
      ],
      "text/plain": [
       "                      MAE      RMSE     SMAPE\n",
       "ARIMA Results    2.049861  2.458499  2.916179\n",
       "XGBOOST Results  1.668012  2.070258  2.380042"
      ]
     },
     "execution_count": 51,
     "metadata": {},
     "output_type": "execute_result"
    }
   ],
   "source": [
    "base_results_df.T"
   ]
  },
  {
   "cell_type": "markdown",
   "id": "64b73256",
   "metadata": {},
   "source": [
    "#  NOTE: Saving the three preprocessed and well formatted data into csv files to do the modelling on them in Google Collab\n"
   ]
  },
  {
   "cell_type": "code",
   "execution_count": 79,
   "id": "1265a9fe",
   "metadata": {},
   "outputs": [],
   "source": [
    "train_featured.to_csv(\"train_featured.csv\")\n",
    "test_featured.to_csv(\"test_featured.csv\")\n",
    "validation_featured.to_csv(\"validation_featured.csv\")"
   ]
  },
  {
   "cell_type": "markdown",
   "id": "6ab1292f",
   "metadata": {},
   "source": [
    "**Note: From above comparison , it's being evident that the XGBOOST permormed well.**"
   ]
  }
 ],
 "metadata": {
  "kernelspec": {
   "display_name": "scotland_project",
   "language": "python",
   "name": "python3"
  },
  "language_info": {
   "codemirror_mode": {
    "name": "ipython",
    "version": 3
   },
   "file_extension": ".py",
   "mimetype": "text/x-python",
   "name": "python",
   "nbconvert_exporter": "python",
   "pygments_lexer": "ipython3",
   "version": "3.13.5"
  }
 },
 "nbformat": 4,
 "nbformat_minor": 5
}
