{
  "nbformat": 4,
  "nbformat_minor": 0,
  "metadata": {
    "colab": {
      "provenance": [],
      "gpuType": "T4",
      "authorship_tag": "ABX9TyPFncEOBCZQp6/4zq8vU51r",
      "include_colab_link": true
    },
    "kernelspec": {
      "name": "python3",
      "display_name": "Python 3"
    },
    "language_info": {
      "name": "python"
    },
    "accelerator": "GPU"
  },
  "cells": [
    {
      "cell_type": "markdown",
      "metadata": {
        "id": "view-in-github",
        "colab_type": "text"
      },
      "source": [
        "<a href=\"https://colab.research.google.com/github/arosha27/DeepLearningProjects/blob/main/LSTM_Training.ipynb\" target=\"_parent\"><img src=\"https://colab.research.google.com/assets/colab-badge.svg\" alt=\"Open In Colab\"/></a>"
      ]
    },
    {
      "cell_type": "markdown",
      "source": [
        "# Loading the well processed and formatted data Via VS code here for advance modelling."
      ],
      "metadata": {
        "id": "k2JYymRldta7"
      }
    },
    {
      "cell_type": "code",
      "source": [
        "import pandas as pd\n",
        "import numpy as np\n",
        "\n",
        "train_featured = pd.read_csv(\"/train_featured.csv\")\n",
        "validation_featured = pd.read_csv(\"/validation_featured.csv\")\n",
        "test_featured = pd.read_csv(\"/test_featured.csv\")"
      ],
      "metadata": {
        "id": "OfVyu2DXgC4-"
      },
      "execution_count": 1,
      "outputs": []
    },
    {
      "cell_type": "markdown",
      "source": [
        "# 9. Model Building - Advanced Deep Learning Model\n",
        "Applying deep learning models to see if they outperform our traditional machine learning models.\n",
        "\n",
        "### 9.1 First Deep Learning Architecture : LSTM\n",
        "Unlike ARIMA, LSTMs can natively use extra features to make more intelligent predictions.\n",
        "\n",
        "### Challange :\n",
        "Before moving to the deep learning model training and prediction , we need to do these two tasks:\n",
        "\n",
        "**Windowed Dataset Preparation**\n",
        "\n",
        "- Prepare the data means create a multiwindowed dataset.LSTM don't work on single sample at one time rather it processed on multiple values from past data in order to predict or forecast the next value or sample.The number of past values is decided by the window_size.e.g (24,5) => at a time it will use 24 months burth rate data to forecast the next month birth rate.\n",
        "\n",
        "**Data Scaling**\n",
        "\n",
        "- Before feeding the data to the LSTM , we need to scale the data , means bring the data in a range from 0 to 1. As deep learning models are very sensitive when some feature values are too large and some are samll . They can be biased in that case"
      ],
      "metadata": {
        "id": "5SrAzLZbfv9y"
      }
    },
    {
      "cell_type": "markdown",
      "source": [
        "### 9.1 : Data Scalling"
      ],
      "metadata": {
        "id": "LQmP1kw_fLhn"
      }
    },
    {
      "cell_type": "markdown",
      "source": [],
      "metadata": {
        "id": "NejLnQ3ufqR-"
      }
    },
    {
      "cell_type": "code",
      "source": [
        "# SCALING DATA FOR THE NEURAL NETWORK\n",
        "\n",
        "from sklearn.preprocessing import MinMaxScaler\n",
        "\n",
        "# Define the features we will use and the target\n",
        "FEATURES = ['Month', 'Year', 'Quarter', 'covid_lockdown_indicator', 'logged_births']\n",
        "TARGET = 'logged_births'\n",
        "\n",
        "# Fit the scaler ONLY on the training data\n",
        "# This is a crucial rule to prevent data leakage from the validation/test sets.\n",
        "scaler = MinMaxScaler()\n",
        "train_scaled = scaler.fit_transform(train_featured[FEATURES])\n",
        "\n",
        "# --- Transform the validation and test data using the SAME scaler ---\n",
        "validation_scaled = scaler.transform(validation_featured[FEATURES])\n",
        "test_scaled = scaler.transform(test_featured[FEATURES])\n",
        "\n",
        "print(\"Data scaling complete.\")\n",
        "print(\"Shape of scaled training data:\", train_scaled.shape)\n"
      ],
      "metadata": {
        "colab": {
          "base_uri": "https://localhost:8080/"
        },
        "id": "QNZjiBybfMXV",
        "outputId": "e78ebe11-f90b-4429-9202-8daaeab84767"
      },
      "execution_count": 2,
      "outputs": [
        {
          "output_type": "stream",
          "name": "stdout",
          "text": [
            "Data scaling complete.\n",
            "Shape of scaled training data: (252, 5)\n"
          ]
        }
      ]
    },
    {
      "cell_type": "markdown",
      "source": [
        "### 9.2 : Windowed Dataset Preparation"
      ],
      "metadata": {
        "id": "LroEEOtUfTpY"
      }
    },
    {
      "cell_type": "code",
      "source": [
        "# Create windowed Dataset\n",
        "# Now we will create the sequences .\n",
        "#We will define the window_size = 24.\n",
        "#which means our model will see 24 months birth rate to predict the 25th month birth rate\n",
        "\n",
        "def create_sequences(data, window_size):\n",
        "    \"\"\"Creates input sequences (X) and corresponding output values (y).\"\"\"\n",
        "\n",
        "    X, y = [], []\n",
        "    for i in range(len(data) - window_size):\n",
        "\n",
        "        # The sequence of features is our input X\n",
        "        X.append(data[i:(i + window_size)])\n",
        "\n",
        "        # The 'logged_births' value at the end of the window is our target y\n",
        "        # Note: We are predicting the last column of the sequence.\n",
        "        y.append(data[i + window_size, -1]) # -1 corresponds to the last column ('logged_births')\n",
        "    return np.array(X), np.array(y)"
      ],
      "metadata": {
        "id": "EQe2wNL1fM09"
      },
      "execution_count": 3,
      "outputs": []
    },
    {
      "cell_type": "code",
      "source": [
        "# Define the window size (e.g., 24 months of history to predict the next month)\n",
        "WINDOW_SIZE = 12\n",
        "\n",
        "# Create sequences for all data splits\n",
        "X_train, y_train = create_sequences(train_scaled, WINDOW_SIZE)\n",
        "X_val, y_val = create_sequences(validation_scaled, WINDOW_SIZE)\n",
        "X_test, y_test = create_sequences(test_scaled, WINDOW_SIZE)\n",
        "\n",
        "print(\"Sequence creation complete.\")\n",
        "print(f\"Window Size: {WINDOW_SIZE} months\")\n",
        "print(\"\\nShape of the training set:\")\n",
        "print(\"  X_train (samples, timesteps, features):\", X_train.shape)\n",
        "print(\"  y_train (samples,):\" , y_train.shape)\n",
        "\n",
        "print(\"\\nShape of the Test set:\")\n",
        "print(\"  X_test:\", X_test.shape)\n",
        "print(\"  y_test:\", y_test.shape)"
      ],
      "metadata": {
        "colab": {
          "base_uri": "https://localhost:8080/"
        },
        "id": "tbussrzifaSX",
        "outputId": "be5ca1d0-d641-469f-b91e-07c85389f76f"
      },
      "execution_count": 4,
      "outputs": [
        {
          "output_type": "stream",
          "name": "stdout",
          "text": [
            "Sequence creation complete.\n",
            "Window Size: 12 months\n",
            "\n",
            "Shape of the training set:\n",
            "  X_train (samples, timesteps, features): (240, 12, 5)\n",
            "  y_train (samples,): (240,)\n",
            "\n",
            "Shape of the Test set:\n",
            "  X_test: (12, 12, 5)\n",
            "  y_test: (12,)\n"
          ]
        }
      ]
    },
    {
      "cell_type": "code",
      "source": [
        "# Just for undersatnding the logic of making the sequences\n",
        "\n",
        "# len(train_scaled[0 :(0+24)])\n",
        "# train_scaled[1: (1+24)]\n",
        "# train_scaled[2 : (2+24)]\n",
        "\n",
        "# train_scaled[24+0 , -1]\n",
        "# train_scaled[24+1 , -1]"
      ],
      "metadata": {
        "id": "MDFk5tT0feYD"
      },
      "execution_count": 10,
      "outputs": []
    },
    {
      "cell_type": "markdown",
      "source": [
        "### 9.3  LSTM Building and Training\n",
        "Now it's time to build our first deep learning model.\n",
        "Requirements:\n",
        "\n",
        "`Build stacked LSTM layers (2-3 layers, 32-128 units)`\n",
        "\n",
        "`with dropout for regularization`"
      ],
      "metadata": {
        "id": "3shfxlEdfjlY"
      }
    },
    {
      "cell_type": "code",
      "source": [
        "from tensorflow.keras.models import Sequential\n",
        "from tensorflow.keras.layers import LSTM , Dense , Dropout\n",
        "from tensorflow.keras.callbacks import EarlyStopping\n",
        "from tensorflow.keras.regularizers import l2"
      ],
      "metadata": {
        "id": "BKlpfuQ7pHUc"
      },
      "execution_count": 5,
      "outputs": []
    },
    {
      "cell_type": "markdown",
      "source": [
        "#### 9.3.1 Define the LSTM Model Architecture"
      ],
      "metadata": {
        "id": "Ek1zU-YQp3Z5"
      }
    },
    {
      "cell_type": "code",
      "source": [
        "print(\"Building the LSTM model\")\n",
        "\n",
        "# Define the model architecture\n",
        "model_lstm = Sequential([\n",
        "    # Layer 1\n",
        "    LSTM(units=32, return_sequences=True, input_shape=(X_train.shape[1], X_train.shape[2]) , kernel_regularizer= l2(0.001)),\n",
        "    Dropout(0.5), # Dropout for regularization\n",
        "\n",
        "    #Layer 2\n",
        "    LSTM(units=16, return_sequences=False , kernel_regularizer= l2(0.001)),\n",
        "    Dropout(0.5),\n",
        "\n",
        "    # Layer 3: A standard fully-connected layer\n",
        "    Dense(units=8, activation='relu' , kernel_regularizer=l2(0.001)),\n",
        "\n",
        "    # Layer 4: The output layer with one neuron for our single prediction\n",
        "    Dense(units=1)\n",
        "])\n"
      ],
      "metadata": {
        "colab": {
          "base_uri": "https://localhost:8080/"
        },
        "id": "XMwnOAn1pJkJ",
        "outputId": "fc2753ab-a8fa-415e-b348-a69dae997f15"
      },
      "execution_count": 6,
      "outputs": [
        {
          "output_type": "stream",
          "name": "stdout",
          "text": [
            "Building the LSTM model\n"
          ]
        },
        {
          "output_type": "stream",
          "name": "stderr",
          "text": [
            "/usr/local/lib/python3.11/dist-packages/keras/src/layers/rnn/rnn.py:200: UserWarning: Do not pass an `input_shape`/`input_dim` argument to a layer. When using Sequential models, prefer using an `Input(shape)` object as the first layer in the model instead.\n",
            "  super().__init__(**kwargs)\n"
          ]
        }
      ]
    },
    {
      "cell_type": "markdown",
      "source": [
        "#### 9.3.2 Compile the model"
      ],
      "metadata": {
        "id": "lyHhdkxdqT3z"
      }
    },
    {
      "cell_type": "code",
      "source": [
        "from tensorflow.keras.optimizers import AdamW\n",
        "print(\"\\nCompiling the model\")\n",
        "# Create an optimizer with a lower learning rate\n",
        "optimizer = AdamW(learning_rate=0.0005, weight_decay=0.01)\n",
        "model_lstm.compile(optimizer = optimizer , loss = \"mean_squared_error\")\n",
        "model_lstm.summary()"
      ],
      "metadata": {
        "colab": {
          "base_uri": "https://localhost:8080/",
          "height": 356
        },
        "id": "hsiiZPs4s263",
        "outputId": "d6df12a3-8b9f-49f3-cc2a-9e33ddb56dd9"
      },
      "execution_count": 7,
      "outputs": [
        {
          "output_type": "stream",
          "name": "stdout",
          "text": [
            "\n",
            "Compiling the model\n"
          ]
        },
        {
          "output_type": "display_data",
          "data": {
            "text/plain": [
              "\u001b[1mModel: \"sequential\"\u001b[0m\n"
            ],
            "text/html": [
              "<pre style=\"white-space:pre;overflow-x:auto;line-height:normal;font-family:Menlo,'DejaVu Sans Mono',consolas,'Courier New',monospace\"><span style=\"font-weight: bold\">Model: \"sequential\"</span>\n",
              "</pre>\n"
            ]
          },
          "metadata": {}
        },
        {
          "output_type": "display_data",
          "data": {
            "text/plain": [
              "┏━━━━━━━━━━━━━━━━━━━━━━━━━━━━━━━━━┳━━━━━━━━━━━━━━━━━━━━━━━━┳━━━━━━━━━━━━━━━┓\n",
              "┃\u001b[1m \u001b[0m\u001b[1mLayer (type)                   \u001b[0m\u001b[1m \u001b[0m┃\u001b[1m \u001b[0m\u001b[1mOutput Shape          \u001b[0m\u001b[1m \u001b[0m┃\u001b[1m \u001b[0m\u001b[1m      Param #\u001b[0m\u001b[1m \u001b[0m┃\n",
              "┡━━━━━━━━━━━━━━━━━━━━━━━━━━━━━━━━━╇━━━━━━━━━━━━━━━━━━━━━━━━╇━━━━━━━━━━━━━━━┩\n",
              "│ lstm (\u001b[38;5;33mLSTM\u001b[0m)                     │ (\u001b[38;5;45mNone\u001b[0m, \u001b[38;5;34m12\u001b[0m, \u001b[38;5;34m32\u001b[0m)         │         \u001b[38;5;34m4,864\u001b[0m │\n",
              "├─────────────────────────────────┼────────────────────────┼───────────────┤\n",
              "│ dropout (\u001b[38;5;33mDropout\u001b[0m)               │ (\u001b[38;5;45mNone\u001b[0m, \u001b[38;5;34m12\u001b[0m, \u001b[38;5;34m32\u001b[0m)         │             \u001b[38;5;34m0\u001b[0m │\n",
              "├─────────────────────────────────┼────────────────────────┼───────────────┤\n",
              "│ lstm_1 (\u001b[38;5;33mLSTM\u001b[0m)                   │ (\u001b[38;5;45mNone\u001b[0m, \u001b[38;5;34m16\u001b[0m)             │         \u001b[38;5;34m3,136\u001b[0m │\n",
              "├─────────────────────────────────┼────────────────────────┼───────────────┤\n",
              "│ dropout_1 (\u001b[38;5;33mDropout\u001b[0m)             │ (\u001b[38;5;45mNone\u001b[0m, \u001b[38;5;34m16\u001b[0m)             │             \u001b[38;5;34m0\u001b[0m │\n",
              "├─────────────────────────────────┼────────────────────────┼───────────────┤\n",
              "│ dense (\u001b[38;5;33mDense\u001b[0m)                   │ (\u001b[38;5;45mNone\u001b[0m, \u001b[38;5;34m8\u001b[0m)              │           \u001b[38;5;34m136\u001b[0m │\n",
              "├─────────────────────────────────┼────────────────────────┼───────────────┤\n",
              "│ dense_1 (\u001b[38;5;33mDense\u001b[0m)                 │ (\u001b[38;5;45mNone\u001b[0m, \u001b[38;5;34m1\u001b[0m)              │             \u001b[38;5;34m9\u001b[0m │\n",
              "└─────────────────────────────────┴────────────────────────┴───────────────┘\n"
            ],
            "text/html": [
              "<pre style=\"white-space:pre;overflow-x:auto;line-height:normal;font-family:Menlo,'DejaVu Sans Mono',consolas,'Courier New',monospace\">┏━━━━━━━━━━━━━━━━━━━━━━━━━━━━━━━━━┳━━━━━━━━━━━━━━━━━━━━━━━━┳━━━━━━━━━━━━━━━┓\n",
              "┃<span style=\"font-weight: bold\"> Layer (type)                    </span>┃<span style=\"font-weight: bold\"> Output Shape           </span>┃<span style=\"font-weight: bold\">       Param # </span>┃\n",
              "┡━━━━━━━━━━━━━━━━━━━━━━━━━━━━━━━━━╇━━━━━━━━━━━━━━━━━━━━━━━━╇━━━━━━━━━━━━━━━┩\n",
              "│ lstm (<span style=\"color: #0087ff; text-decoration-color: #0087ff\">LSTM</span>)                     │ (<span style=\"color: #00d7ff; text-decoration-color: #00d7ff\">None</span>, <span style=\"color: #00af00; text-decoration-color: #00af00\">12</span>, <span style=\"color: #00af00; text-decoration-color: #00af00\">32</span>)         │         <span style=\"color: #00af00; text-decoration-color: #00af00\">4,864</span> │\n",
              "├─────────────────────────────────┼────────────────────────┼───────────────┤\n",
              "│ dropout (<span style=\"color: #0087ff; text-decoration-color: #0087ff\">Dropout</span>)               │ (<span style=\"color: #00d7ff; text-decoration-color: #00d7ff\">None</span>, <span style=\"color: #00af00; text-decoration-color: #00af00\">12</span>, <span style=\"color: #00af00; text-decoration-color: #00af00\">32</span>)         │             <span style=\"color: #00af00; text-decoration-color: #00af00\">0</span> │\n",
              "├─────────────────────────────────┼────────────────────────┼───────────────┤\n",
              "│ lstm_1 (<span style=\"color: #0087ff; text-decoration-color: #0087ff\">LSTM</span>)                   │ (<span style=\"color: #00d7ff; text-decoration-color: #00d7ff\">None</span>, <span style=\"color: #00af00; text-decoration-color: #00af00\">16</span>)             │         <span style=\"color: #00af00; text-decoration-color: #00af00\">3,136</span> │\n",
              "├─────────────────────────────────┼────────────────────────┼───────────────┤\n",
              "│ dropout_1 (<span style=\"color: #0087ff; text-decoration-color: #0087ff\">Dropout</span>)             │ (<span style=\"color: #00d7ff; text-decoration-color: #00d7ff\">None</span>, <span style=\"color: #00af00; text-decoration-color: #00af00\">16</span>)             │             <span style=\"color: #00af00; text-decoration-color: #00af00\">0</span> │\n",
              "├─────────────────────────────────┼────────────────────────┼───────────────┤\n",
              "│ dense (<span style=\"color: #0087ff; text-decoration-color: #0087ff\">Dense</span>)                   │ (<span style=\"color: #00d7ff; text-decoration-color: #00d7ff\">None</span>, <span style=\"color: #00af00; text-decoration-color: #00af00\">8</span>)              │           <span style=\"color: #00af00; text-decoration-color: #00af00\">136</span> │\n",
              "├─────────────────────────────────┼────────────────────────┼───────────────┤\n",
              "│ dense_1 (<span style=\"color: #0087ff; text-decoration-color: #0087ff\">Dense</span>)                 │ (<span style=\"color: #00d7ff; text-decoration-color: #00d7ff\">None</span>, <span style=\"color: #00af00; text-decoration-color: #00af00\">1</span>)              │             <span style=\"color: #00af00; text-decoration-color: #00af00\">9</span> │\n",
              "└─────────────────────────────────┴────────────────────────┴───────────────┘\n",
              "</pre>\n"
            ]
          },
          "metadata": {}
        },
        {
          "output_type": "display_data",
          "data": {
            "text/plain": [
              "\u001b[1m Total params: \u001b[0m\u001b[38;5;34m8,145\u001b[0m (31.82 KB)\n"
            ],
            "text/html": [
              "<pre style=\"white-space:pre;overflow-x:auto;line-height:normal;font-family:Menlo,'DejaVu Sans Mono',consolas,'Courier New',monospace\"><span style=\"font-weight: bold\"> Total params: </span><span style=\"color: #00af00; text-decoration-color: #00af00\">8,145</span> (31.82 KB)\n",
              "</pre>\n"
            ]
          },
          "metadata": {}
        },
        {
          "output_type": "display_data",
          "data": {
            "text/plain": [
              "\u001b[1m Trainable params: \u001b[0m\u001b[38;5;34m8,145\u001b[0m (31.82 KB)\n"
            ],
            "text/html": [
              "<pre style=\"white-space:pre;overflow-x:auto;line-height:normal;font-family:Menlo,'DejaVu Sans Mono',consolas,'Courier New',monospace\"><span style=\"font-weight: bold\"> Trainable params: </span><span style=\"color: #00af00; text-decoration-color: #00af00\">8,145</span> (31.82 KB)\n",
              "</pre>\n"
            ]
          },
          "metadata": {}
        },
        {
          "output_type": "display_data",
          "data": {
            "text/plain": [
              "\u001b[1m Non-trainable params: \u001b[0m\u001b[38;5;34m0\u001b[0m (0.00 B)\n"
            ],
            "text/html": [
              "<pre style=\"white-space:pre;overflow-x:auto;line-height:normal;font-family:Menlo,'DejaVu Sans Mono',consolas,'Courier New',monospace\"><span style=\"font-weight: bold\"> Non-trainable params: </span><span style=\"color: #00af00; text-decoration-color: #00af00\">0</span> (0.00 B)\n",
              "</pre>\n"
            ]
          },
          "metadata": {}
        }
      ]
    },
    {
      "cell_type": "code",
      "source": [
        "# Define early stopping to prevent overfitting\n",
        "# It will monitor the validation loss and stop if it doesn't improve for 10 epochs.\n",
        "\n",
        "early_stopping = EarlyStopping(monitor='val_loss', patience=10, restore_best_weights=True)\n"
      ],
      "metadata": {
        "id": "C6qc6thGtSUm"
      },
      "execution_count": 8,
      "outputs": []
    },
    {
      "cell_type": "markdown",
      "source": [
        "### 9.3.3 : Training"
      ],
      "metadata": {
        "id": "oX-wUdydtsZl"
      }
    },
    {
      "cell_type": "code",
      "source": [
        "print(\"\\ntraining the LSTM model\")\n",
        "history = model_lstm.fit(X_train, y_train,\n",
        "                         epochs=100,\n",
        "                         batch_size=16,\n",
        "                         validation_data=(X_val, y_val),\n",
        "                         callbacks=[early_stopping],\n",
        "                         verbose=1)\n",
        "\n",
        "print(\"/nModel training complete.\")"
      ],
      "metadata": {
        "colab": {
          "base_uri": "https://localhost:8080/"
        },
        "id": "rWJpi7nKuVw6",
        "outputId": "539bfc2b-1df9-41dc-86c4-a7e36d1cd3bd"
      },
      "execution_count": 9,
      "outputs": [
        {
          "output_type": "stream",
          "name": "stdout",
          "text": [
            "\n",
            "training the LSTM model\n",
            "Epoch 1/100\n",
            "\u001b[1m15/15\u001b[0m \u001b[32m━━━━━━━━━━━━━━━━━━━━\u001b[0m\u001b[37m\u001b[0m \u001b[1m5s\u001b[0m 76ms/step - loss: 0.3359 - val_loss: 4.4432\n",
            "Epoch 2/100\n",
            "\u001b[1m15/15\u001b[0m \u001b[32m━━━━━━━━━━━━━━━━━━━━\u001b[0m\u001b[37m\u001b[0m \u001b[1m2s\u001b[0m 15ms/step - loss: 0.1316 - val_loss: 4.8446\n",
            "Epoch 3/100\n",
            "\u001b[1m15/15\u001b[0m \u001b[32m━━━━━━━━━━━━━━━━━━━━\u001b[0m\u001b[37m\u001b[0m \u001b[1m0s\u001b[0m 11ms/step - loss: 0.1218 - val_loss: 4.6661\n",
            "Epoch 4/100\n",
            "\u001b[1m15/15\u001b[0m \u001b[32m━━━━━━━━━━━━━━━━━━━━\u001b[0m\u001b[37m\u001b[0m \u001b[1m0s\u001b[0m 9ms/step - loss: 0.1280 - val_loss: 4.6529\n",
            "Epoch 5/100\n",
            "\u001b[1m15/15\u001b[0m \u001b[32m━━━━━━━━━━━━━━━━━━━━\u001b[0m\u001b[37m\u001b[0m \u001b[1m0s\u001b[0m 9ms/step - loss: 0.1079 - val_loss: 4.6566\n",
            "Epoch 6/100\n",
            "\u001b[1m15/15\u001b[0m \u001b[32m━━━━━━━━━━━━━━━━━━━━\u001b[0m\u001b[37m\u001b[0m \u001b[1m0s\u001b[0m 9ms/step - loss: 0.1133 - val_loss: 4.6657\n",
            "Epoch 7/100\n",
            "\u001b[1m15/15\u001b[0m \u001b[32m━━━━━━━━━━━━━━━━━━━━\u001b[0m\u001b[37m\u001b[0m \u001b[1m0s\u001b[0m 9ms/step - loss: 0.0993 - val_loss: 4.5713\n",
            "Epoch 8/100\n",
            "\u001b[1m15/15\u001b[0m \u001b[32m━━━━━━━━━━━━━━━━━━━━\u001b[0m\u001b[37m\u001b[0m \u001b[1m0s\u001b[0m 10ms/step - loss: 0.1076 - val_loss: 4.5678\n",
            "Epoch 9/100\n",
            "\u001b[1m15/15\u001b[0m \u001b[32m━━━━━━━━━━━━━━━━━━━━\u001b[0m\u001b[37m\u001b[0m \u001b[1m0s\u001b[0m 9ms/step - loss: 0.1006 - val_loss: 4.6257\n",
            "Epoch 10/100\n",
            "\u001b[1m15/15\u001b[0m \u001b[32m━━━━━━━━━━━━━━━━━━━━\u001b[0m\u001b[37m\u001b[0m \u001b[1m0s\u001b[0m 10ms/step - loss: 0.0938 - val_loss: 4.5463\n",
            "Epoch 11/100\n",
            "\u001b[1m15/15\u001b[0m \u001b[32m━━━━━━━━━━━━━━━━━━━━\u001b[0m\u001b[37m\u001b[0m \u001b[1m0s\u001b[0m 9ms/step - loss: 0.0882 - val_loss: 4.5775\n",
            "/nModel training complete.\n"
          ]
        }
      ]
    },
    {
      "cell_type": "markdown",
      "source": [
        "#### 9.3.4 Visualizing the model history"
      ],
      "metadata": {
        "id": "a28CzoMl0Vn8"
      }
    },
    {
      "cell_type": "code",
      "source": [
        "import matplotlib.pyplot as plt\n",
        "import seaborn as sns\n",
        "\n",
        "plt.figure(figsize=(12,6))\n",
        "plt.plot(history.history[\"loss\"] , label =\" Training Loss\")\n",
        "plt.plot(history.history[\"val_loss\"] , label = \"Validation Loss\")\n",
        "plt.title(\"LSTM Model's Training and Validation Loss\")\n",
        "plt.xlabel(\"Epochs\")\n",
        "plt.ylabel(\"Loss\")\n",
        "\n",
        "plt.legend()"
      ],
      "metadata": {
        "colab": {
          "base_uri": "https://localhost:8080/",
          "height": 581
        },
        "id": "vV3Ab9Or0qSv",
        "outputId": "0a88839e-d203-4471-9480-73f1d62e0e78"
      },
      "execution_count": 10,
      "outputs": [
        {
          "output_type": "execute_result",
          "data": {
            "text/plain": [
              "<matplotlib.legend.Legend at 0x7c17c8ba6410>"
            ]
          },
          "metadata": {},
          "execution_count": 10
        },
        {
          "output_type": "display_data",
          "data": {
            "text/plain": [
              "<Figure size 1200x600 with 1 Axes>"
            ],
            "image/png": "[encoded data removed]"
          },
          "metadata": {}
        }
      ]
    },
    {
      "cell_type": "code",
      "source": [
        "# ===================================================================\n",
        "# NEXT ATTEMPT: KEEP THE GRU MODEL, BUT LOWER THE LEARNING RATE\n",
        "# ===================================================================\n",
        "from tensorflow.keras.optimizers import Adam\n",
        "from tensorflow.keras.regularizers import l2\n",
        "from tensorflow.keras.layers import GRU, Dense, Dropout\n",
        "\n",
        "# Use the same successful architecture\n",
        "model_gru_slow_lr = Sequential([\n",
        "    GRU(units=32, return_sequences=False,\n",
        "        input_shape=(X_train.shape[1], X_train.shape[2]),\n",
        "        kernel_regularizer=l2(0.001)),\n",
        "\n",
        "    Dropout(0.5),\n",
        "\n",
        "    Dense(units=16, activation='relu',\n",
        "          kernel_regularizer=l2(0.001)),\n",
        "\n",
        "    Dense(units=1)\n",
        "])\n",
        "\n",
        "# --- The Key Change is Here ---\n",
        "# Create an Adam optimizer with a smaller learning rate.\n",
        "# The default is 0.001, let's try 0.0005.\n",
        "optimizer = Adam(learning_rate=0.0005)\n",
        "\n",
        "# Compile the model with the new optimizer\n",
        "model_gru_slow_lr.compile(optimizer=optimizer, loss='mean_squared_error')\n",
        "\n",
        "print(\"Training the regularized GRU model with a lower learning rate...\")\n",
        "\n",
        "# Fit the model\n",
        "history_slow_lr = model_gru_slow_lr.fit(X_train, y_train,\n",
        "                                      epochs=100,\n",
        "                                      batch_size=16,\n",
        "                                      validation_data=(X_val, y_val),\n",
        "                                      callbacks=[early_stopping],\n",
        "                                      verbose=1)\n"
      ],
      "metadata": {
        "colab": {
          "base_uri": "https://localhost:8080/"
        },
        "id": "0wEbPiCLObXM",
        "outputId": "06d15e56-5c39-4b21-ba62-d9b674a3c097"
      },
      "execution_count": 94,
      "outputs": [
        {
          "output_type": "stream",
          "name": "stdout",
          "text": [
            "Training the regularized GRU model with a lower learning rate...\n",
            "Epoch 1/100\n"
          ]
        },
        {
          "output_type": "stream",
          "name": "stderr",
          "text": [
            "/usr/local/lib/python3.11/dist-packages/keras/src/layers/rnn/rnn.py:200: UserWarning: Do not pass an `input_shape`/`input_dim` argument to a layer. When using Sequential models, prefer using an `Input(shape)` object as the first layer in the model instead.\n",
            "  super().__init__(**kwargs)\n"
          ]
        },
        {
          "output_type": "stream",
          "name": "stdout",
          "text": [
            "\u001b[1m15/15\u001b[0m \u001b[32m━━━━━━━━━━━━━━━━━━━━\u001b[0m\u001b[37m\u001b[0m \u001b[1m2s\u001b[0m 26ms/step - loss: 0.1234 - val_loss: 3.8231\n",
            "Epoch 2/100\n",
            "\u001b[1m15/15\u001b[0m \u001b[32m━━━━━━━━━━━━━━━━━━━━\u001b[0m\u001b[37m\u001b[0m \u001b[1m0s\u001b[0m 9ms/step - loss: 0.0906 - val_loss: 3.8520\n",
            "Epoch 3/100\n",
            "\u001b[1m15/15\u001b[0m \u001b[32m━━━━━━━━━━━━━━━━━━━━\u001b[0m\u001b[37m\u001b[0m \u001b[1m0s\u001b[0m 9ms/step - loss: 0.0833 - val_loss: 3.8118\n",
            "Epoch 4/100\n",
            "\u001b[1m15/15\u001b[0m \u001b[32m━━━━━━━━━━━━━━━━━━━━\u001b[0m\u001b[37m\u001b[0m \u001b[1m0s\u001b[0m 9ms/step - loss: 0.0869 - val_loss: 3.7843\n",
            "Epoch 5/100\n",
            "\u001b[1m15/15\u001b[0m \u001b[32m━━━━━━━━━━━━━━━━━━━━\u001b[0m\u001b[37m\u001b[0m \u001b[1m0s\u001b[0m 9ms/step - loss: 0.0732 - val_loss: 3.8094\n",
            "Epoch 6/100\n",
            "\u001b[1m15/15\u001b[0m \u001b[32m━━━━━━━━━━━━━━━━━━━━\u001b[0m\u001b[37m\u001b[0m \u001b[1m0s\u001b[0m 15ms/step - loss: 0.0684 - val_loss: 3.8284\n",
            "Epoch 7/100\n",
            "\u001b[1m15/15\u001b[0m \u001b[32m━━━━━━━━━━━━━━━━━━━━\u001b[0m\u001b[37m\u001b[0m \u001b[1m0s\u001b[0m 12ms/step - loss: 0.0717 - val_loss: 3.8050\n",
            "Epoch 8/100\n",
            "\u001b[1m15/15\u001b[0m \u001b[32m━━━━━━━━━━━━━━━━━━━━\u001b[0m\u001b[37m\u001b[0m \u001b[1m0s\u001b[0m 14ms/step - loss: 0.0742 - val_loss: 3.8124\n",
            "Epoch 9/100\n",
            "\u001b[1m15/15\u001b[0m \u001b[32m━━━━━━━━━━━━━━━━━━━━\u001b[0m\u001b[37m\u001b[0m \u001b[1m0s\u001b[0m 14ms/step - loss: 0.0711 - val_loss: 3.8224\n",
            "Epoch 10/100\n",
            "\u001b[1m15/15\u001b[0m \u001b[32m━━━━━━━━━━━━━━━━━━━━\u001b[0m\u001b[37m\u001b[0m \u001b[1m0s\u001b[0m 15ms/step - loss: 0.0649 - val_loss: 3.8104\n",
            "Epoch 11/100\n",
            "\u001b[1m15/15\u001b[0m \u001b[32m━━━━━━━━━━━━━━━━━━━━\u001b[0m\u001b[37m\u001b[0m \u001b[1m0s\u001b[0m 15ms/step - loss: 0.0636 - val_loss: 3.8320\n",
            "Epoch 12/100\n",
            "\u001b[1m15/15\u001b[0m \u001b[32m━━━━━━━━━━━━━━━━━━━━\u001b[0m\u001b[37m\u001b[0m \u001b[1m0s\u001b[0m 14ms/step - loss: 0.0642 - val_loss: 3.8264\n",
            "Epoch 13/100\n",
            "\u001b[1m15/15\u001b[0m \u001b[32m━━━━━━━━━━━━━━━━━━━━\u001b[0m\u001b[37m\u001b[0m \u001b[1m0s\u001b[0m 11ms/step - loss: 0.0615 - val_loss: 3.8200\n",
            "Epoch 14/100\n",
            "\u001b[1m15/15\u001b[0m \u001b[32m━━━━━━━━━━━━━━━━━━━━\u001b[0m\u001b[37m\u001b[0m \u001b[1m0s\u001b[0m 9ms/step - loss: 0.0663 - val_loss: 3.8125\n"
          ]
        }
      ]
    },
    {
      "cell_type": "code",
      "source": [
        "plt.figure(figsize=(12,6))\n",
        "plt.plot(history_slow_lr.history[\"loss\"] , label =\" Training Loss\")\n",
        "plt.plot(history_slow_lr.history[\"val_loss\"] , label = \"Validation Loss\")\n",
        "plt.title(\"LSTM Model's Training and Validation Loss\")\n",
        "plt.xlabel(\"Epochs\")\n",
        "plt.ylabel(\"Loss\")\n",
        "\n",
        "plt.legend()"
      ],
      "metadata": {
        "colab": {
          "base_uri": "https://localhost:8080/",
          "height": 581
        },
        "id": "qc2_H3t1QLTF",
        "outputId": "3871c400-5ecc-46f1-bba5-007357ccd18f"
      },
      "execution_count": 95,
      "outputs": [
        {
          "output_type": "execute_result",
          "data": {
            "text/plain": [
              "<matplotlib.legend.Legend at 0x7f14f04ebf50>"
            ]
          },
          "metadata": {},
          "execution_count": 95
        },
        {
          "output_type": "display_data",
          "data": {
            "text/plain": [
              "<Figure size 1200x600 with 1 Axes>"
            ],
            "image/png": "[encoded data removed]"
          },
          "metadata": {}
        }
      ]
    },
    {
      "cell_type": "markdown",
      "source": [
        "### Make Predictions and Inverse Transform Them for LSTM"
      ],
      "metadata": {
        "id": "MCl3XSCkbSlN"
      }
    },
    {
      "cell_type": "code",
      "source": [
        "# ===================================================================\n",
        "# NEXT STEP 1: MAKE PREDICTIONS AND INVERSE TRANSFORM\n",
        "# ===================================================================\n",
        "\n",
        "print(\"Making predictions on the test set...\")\n",
        "# The model predicts on the scaled data\n",
        "lstm_test_pred_scaled = model_lstm.predict(X_test)\n",
        "\n",
        "# --- Crucial Step: Inverse Transform the Predictions ---\n",
        "# The scaler expects an array of shape (n_samples, n_features).\n",
        "# Our predictions are only for the target variable, so we need to place them\n",
        "# back into a dummy array of the correct shape before inverse transforming.\n",
        "\n",
        "# Create a dummy array with the same shape as our original features\n",
        "# The values for the other features don't matter, as we only care about the last column.\n",
        "dummy_array = np.zeros((len(lstm_test_pred_scaled), len(FEATURES)))\n",
        "\n",
        "# Place our scaled predictions into the last column (the 'logged_births' position)\n",
        "dummy_array[:, -1] = lstm_test_pred_scaled.ravel()\n",
        "\n",
        "# Now, apply the inverse transform\n",
        "predictions_inversed = scaler.inverse_transform(dummy_array)\n",
        "\n",
        "# Extract the final predictions from the last column\n",
        "lstm_test_forecast = predictions_inversed[:, -1]\n",
        "\n",
        "print(\"Inverse transform complete. Predictions are now on the original 'logged_births' scale.\")\n",
        "\n",
        "\n",
        "# --- We also need the original, unscaled actual values for comparison ---\n",
        "# We can get these from our original 'test_featured' DataFrame.\n",
        "# We must skip the first 'WINDOW_SIZE' values to align with our predictions.\n",
        "actual_test_unscaled = test_featured[TARGET].values[WINDOW_SIZE:]\n",
        "\n",
        "print(f\"Shape of final predictions: {lstm_test_forecast.shape}\")\n",
        "print(f\"Shape of actual values: {actual_test_unscaled.shape}\")\n"
      ],
      "metadata": {
        "colab": {
          "base_uri": "https://localhost:8080/"
        },
        "id": "HJYUj_g3bmMJ",
        "outputId": "66d09143-3d31-4c86-830e-53125128fa4c"
      },
      "execution_count": 11,
      "outputs": [
        {
          "output_type": "stream",
          "name": "stdout",
          "text": [
            "Making predictions on the test set...\n",
            "\u001b[1m1/1\u001b[0m \u001b[32m━━━━━━━━━━━━━━━━━━━━\u001b[0m\u001b[37m\u001b[0m \u001b[1m0s\u001b[0m 166ms/step\n",
            "Inverse transform complete. Predictions are now on the original 'logged_births' scale.\n",
            "Shape of final predictions: (12,)\n",
            "Shape of actual values: (12,)\n"
          ]
        }
      ]
    },
    {
      "cell_type": "code",
      "source": [],
      "metadata": {
        "id": "MKaZcLzmb6JV"
      },
      "execution_count": null,
      "outputs": []
    },
    {
      "cell_type": "markdown",
      "source": [
        "### Calculate Evaluation Metrics for the LSTM Model"
      ],
      "metadata": {
        "id": "e6EmaGlZbtlG"
      }
    },
    {
      "cell_type": "code",
      "source": [
        "# ===================================================================\n",
        "# NEXT STEP 2: CALCULATE LSTM EVALUATION METRICS\n",
        "# ===================================================================\n",
        "from sklearn.metrics import mean_absolute_error, mean_squared_error\n",
        "import numpy as np\n",
        "\n",
        "# We can reuse the smape function from before\n",
        "def calculate_smape(y_true, y_pred):\n",
        "    \"\"\"Calculates the Symmetric Mean Absolute Percentage Error (SMAPE).\"\"\"\n",
        "    numerator = np.abs(y_pred - y_true)\n",
        "    denominator = (np.abs(y_true) + np.abs(y_pred)) / 2\n",
        "    # Add a small epsilon to the denominator to avoid division by zero\n",
        "    epsilon = 1e-8\n",
        "    return np.mean(numerator / (denominator + epsilon)) * 100\n",
        "\n",
        "# Calculate metrics for the Test Set\n",
        "mae_test_lstm = mean_absolute_error(actual_test_unscaled, lstm_test_forecast)\n",
        "rmse_test_lstm = np.sqrt(mean_squared_error(actual_test_unscaled, lstm_test_forecast))\n",
        "smape_test_lstm = calculate_smape(actual_test_unscaled, lstm_test_forecast)\n",
        "\n",
        "print(\"\\n--- LSTM Model Performance ---\")\n",
        "print(\"\\nTest Set Metrics:\")\n",
        "print(f\"  MAE:   {mae_test_lstm:.4f}\")\n",
        "print(f\"  RMSE:  {rmse_test_lstm:.4f}\")\n",
        "print(f\"  SMAPE: {smape_test_lstm:.2f}%\")\n",
        "\n",
        "# Store results for the final comparison\n",
        "lstm_results = {\n",
        "    'MAE': mae_test_lstm,\n",
        "    'RMSE': rmse_test_lstm,\n",
        "    'SMAPE': smape_test_lstm\n",
        "}\n",
        "\n"
      ],
      "metadata": {
        "colab": {
          "base_uri": "https://localhost:8080/"
        },
        "id": "0z0_3J_ZbwVz",
        "outputId": "92466353-566d-4bc0-9035-421838d3259a"
      },
      "execution_count": 12,
      "outputs": [
        {
          "output_type": "stream",
          "name": "stdout",
          "text": [
            "\n",
            "--- LSTM Model Performance ---\n",
            "\n",
            "Test Set Metrics:\n",
            "  MAE:   1.4286\n",
            "  RMSE:  2.1361\n",
            "  SMAPE: 2.07%\n"
          ]
        }
      ]
    },
    {
      "cell_type": "markdown",
      "source": [
        "Final Comparison with All Models\n",
        "The final step is to update our comparison table to include the new LSTM results and see if our deep learning model actually outperformed the baselines."
      ],
      "metadata": {
        "id": "2Ndp86mab2rb"
      }
    },
    {
      "cell_type": "code",
      "source": [
        "# base_results = pd.read_csv(\"/base_results.csv\")\n",
        "# base_results #it has all the results saved\n",
        "\n",
        "ARIMA_Results = {\n",
        "    \"MAE\" : 2.049861,\n",
        "    \"RMSE\" : 2.458499 ,\n",
        "    \"SMAPE\" : 2.916179\n",
        "}\n",
        "XGBOOST_Results = {\n",
        "    \"MAE\" : 1.671857,\n",
        "    \"RMSE\" : 2.080288 ,\n",
        "    \"SMAPE\" : 2.385964\n",
        "}\n",
        "\n",
        "final_results = pd.DataFrame({\"ARIMA\" : ARIMA_Results , \"XGBOOST\" : XGBOOST_Results , \"LSTM\" :lstm_results})\n",
        "final_results"
      ],
      "metadata": {
        "colab": {
          "base_uri": "https://localhost:8080/",
          "height": 143
        },
        "id": "jjGVhUH3gfYM",
        "outputId": "1c018b69-90d5-416f-ba10-c3b2ad4a9214"
      },
      "execution_count": 34,
      "outputs": [
        {
          "output_type": "execute_result",
          "data": {
            "text/plain": [
              "          ARIMA   XGBOOST      LSTM\n",
              "MAE    2.049861  1.671857  1.428594\n",
              "RMSE   2.458499  2.080288  2.136080\n",
              "SMAPE  2.916179  2.385964  2.069158"
            ],
            "text/html": [
              "\n",
              "  <div id=\"df-cae84c9d-68fa-49f0-8875-3c7af2d27aad\" class=\"colab-df-container\">\n",
              "    <div>\n",
              "<style scoped>\n",
              "    .dataframe tbody tr th:only-of-type {\n",
              "        vertical-align: middle;\n",
              "    }\n",
              "\n",
              "    .dataframe tbody tr th {\n",
              "        vertical-align: top;\n",
              "    }\n",
              "\n",
              "    .dataframe thead th {\n",
              "        text-align: right;\n",
              "    }\n",
              "</style>\n",
              "<table border=\"1\" class=\"dataframe\">\n",
              "  <thead>\n",
              "    <tr style=\"text-align: right;\">\n",
              "      <th></th>\n",
              "      <th>ARIMA</th>\n",
              "      <th>XGBOOST</th>\n",
              "      <th>LSTM</th>\n",
              "    </tr>\n",
              "  </thead>\n",
              "  <tbody>\n",
              "    <tr>\n",
              "      <th>MAE</th>\n",
              "      <td>2.049861</td>\n",
              "      <td>1.671857</td>\n",
              "      <td>1.428594</td>\n",
              "    </tr>\n",
              "    <tr>\n",
              "      <th>RMSE</th>\n",
              "      <td>2.458499</td>\n",
              "      <td>2.080288</td>\n",
              "      <td>2.136080</td>\n",
              "    </tr>\n",
              "    <tr>\n",
              "      <th>SMAPE</th>\n",
              "      <td>2.916179</td>\n",
              "      <td>2.385964</td>\n",
              "      <td>2.069158</td>\n",
              "    </tr>\n",
              "  </tbody>\n",
              "</table>\n",
              "</div>\n",
              "    <div class=\"colab-df-buttons\">\n",
              "\n",
              "  <div class=\"colab-df-container\">\n",
              "    <button class=\"colab-df-convert\" onclick=\"convertToInteractive('df-cae84c9d-68fa-49f0-8875-3c7af2d27aad')\"\n",
              "            title=\"Convert this dataframe to an interactive table.\"\n",
              "            style=\"display:none;\">\n",
              "\n",
              "  <svg xmlns=\"http://www.w3.org/2000/svg\" height=\"24px\" viewBox=\"0 -960 960 960\">\n",
              "    <path d=\"M120-120v-720h720v720H120Zm60-500h600v-160H180v160Zm220 220h160v-160H400v160Zm0 220h160v-160H400v160ZM180-400h160v-160H180v160Zm440 0h160v-160H620v160ZM180-180h160v-160H180v160Zm440 0h160v-160H620v160Z\"/>\n",
              "  </svg>\n",
              "    </button>\n",
              "\n",
              "  <style>\n",
              "    .colab-df-container {\n",
              "      display:flex;\n",
              "      gap: 12px;\n",
              "    }\n",
              "\n",
              "    .colab-df-convert {\n",
              "      background-color: #E8F0FE;\n",
              "      border: none;\n",
              "      border-radius: 50%;\n",
              "      cursor: pointer;\n",
              "      display: none;\n",
              "      fill: #1967D2;\n",
              "      height: 32px;\n",
              "      padding: 0 0 0 0;\n",
              "      width: 32px;\n",
              "    }\n",
              "\n",
              "    .colab-df-convert:hover {\n",
              "      background-color: #E2EBFA;\n",
              "      box-shadow: 0px 1px 2px rgba(60, 64, 67, 0.3), 0px 1px 3px 1px rgba(60, 64, 67, 0.15);\n",
              "      fill: #174EA6;\n",
              "    }\n",
              "\n",
              "    .colab-df-buttons div {\n",
              "      margin-bottom: 4px;\n",
              "    }\n",
              "\n",
              "    [theme=dark] .colab-df-convert {\n",
              "      background-color: #3B4455;\n",
              "      fill: #D2E3FC;\n",
              "    }\n",
              "\n",
              "    [theme=dark] .colab-df-convert:hover {\n",
              "      background-color: #434B5C;\n",
              "      box-shadow: 0px 1px 3px 1px rgba(0, 0, 0, 0.15);\n",
              "      filter: drop-shadow(0px 1px 2px rgba(0, 0, 0, 0.3));\n",
              "      fill: #FFFFFF;\n",
              "    }\n",
              "  </style>\n",
              "\n",
              "    <script>\n",
              "      const buttonEl =\n",
              "        document.querySelector('#df-cae84c9d-68fa-49f0-8875-3c7af2d27aad button.colab-df-convert');\n",
              "      buttonEl.style.display =\n",
              "        google.colab.kernel.accessAllowed ? 'block' : 'none';\n",
              "\n",
              "      async function convertToInteractive(key) {\n",
              "        const element = document.querySelector('#df-cae84c9d-68fa-49f0-8875-3c7af2d27aad');\n",
              "        const dataTable =\n",
              "          await google.colab.kernel.invokeFunction('convertToInteractive',\n",
              "                                                    [key], {});\n",
              "        if (!dataTable) return;\n",
              "\n",
              "        const docLinkHtml = 'Like what you see? Visit the ' +\n",
              "          '<a target=\"_blank\" href=https://colab.research.google.com/notebooks/data_table.ipynb>data table notebook</a>'\n",
              "          + ' to learn more about interactive tables.';\n",
              "        element.innerHTML = '';\n",
              "        dataTable['output_type'] = 'display_data';\n",
              "        await google.colab.output.renderOutput(dataTable, element);\n",
              "        const docLink = document.createElement('div');\n",
              "        docLink.innerHTML = docLinkHtml;\n",
              "        element.appendChild(docLink);\n",
              "      }\n",
              "    </script>\n",
              "  </div>\n",
              "\n",
              "\n",
              "    <div id=\"df-2bfa9b55-0a1a-41ad-8d25-d202a655cc8c\">\n",
              "      <button class=\"colab-df-quickchart\" onclick=\"quickchart('df-2bfa9b55-0a1a-41ad-8d25-d202a655cc8c')\"\n",
              "                title=\"Suggest charts\"\n",
              "                style=\"display:none;\">\n",
              "\n",
              "<svg xmlns=\"http://www.w3.org/2000/svg\" height=\"24px\"viewBox=\"0 0 24 24\"\n",
              "     width=\"24px\">\n",
              "    <g>\n",
              "        <path d=\"M19 3H5c-1.1 0-2 .9-2 2v14c0 1.1.9 2 2 2h14c1.1 0 2-.9 2-2V5c0-1.1-.9-2-2-2zM9 17H7v-7h2v7zm4 0h-2V7h2v10zm4 0h-2v-4h2v4z\"/>\n",
              "    </g>\n",
              "</svg>\n",
              "      </button>\n",
              "\n",
              "<style>\n",
              "  .colab-df-quickchart {\n",
              "      --bg-color: #E8F0FE;\n",
              "      --fill-color: #1967D2;\n",
              "      --hover-bg-color: #E2EBFA;\n",
              "      --hover-fill-color: #174EA6;\n",
              "      --disabled-fill-color: #AAA;\n",
              "      --disabled-bg-color: #DDD;\n",
              "  }\n",
              "\n",
              "  [theme=dark] .colab-df-quickchart {\n",
              "      --bg-color: #3B4455;\n",
              "      --fill-color: #D2E3FC;\n",
              "      --hover-bg-color: #434B5C;\n",
              "      --hover-fill-color: #FFFFFF;\n",
              "      --disabled-bg-color: #3B4455;\n",
              "      --disabled-fill-color: #666;\n",
              "  }\n",
              "\n",
              "  .colab-df-quickchart {\n",
              "    background-color: var(--bg-color);\n",
              "    border: none;\n",
              "    border-radius: 50%;\n",
              "    cursor: pointer;\n",
              "    display: none;\n",
              "    fill: var(--fill-color);\n",
              "    height: 32px;\n",
              "    padding: 0;\n",
              "    width: 32px;\n",
              "  }\n",
              "\n",
              "  .colab-df-quickchart:hover {\n",
              "    background-color: var(--hover-bg-color);\n",
              "    box-shadow: 0 1px 2px rgba(60, 64, 67, 0.3), 0 1px 3px 1px rgba(60, 64, 67, 0.15);\n",
              "    fill: var(--button-hover-fill-color);\n",
              "  }\n",
              "\n",
              "  .colab-df-quickchart-complete:disabled,\n",
              "  .colab-df-quickchart-complete:disabled:hover {\n",
              "    background-color: var(--disabled-bg-color);\n",
              "    fill: var(--disabled-fill-color);\n",
              "    box-shadow: none;\n",
              "  }\n",
              "\n",
              "  .colab-df-spinner {\n",
              "    border: 2px solid var(--fill-color);\n",
              "    border-color: transparent;\n",
              "    border-bottom-color: var(--fill-color);\n",
              "    animation:\n",
              "      spin 1s steps(1) infinite;\n",
              "  }\n",
              "\n",
              "  @keyframes spin {\n",
              "    0% {\n",
              "      border-color: transparent;\n",
              "      border-bottom-color: var(--fill-color);\n",
              "      border-left-color: var(--fill-color);\n",
              "    }\n",
              "    20% {\n",
              "      border-color: transparent;\n",
              "      border-left-color: var(--fill-color);\n",
              "      border-top-color: var(--fill-color);\n",
              "    }\n",
              "    30% {\n",
              "      border-color: transparent;\n",
              "      border-left-color: var(--fill-color);\n",
              "      border-top-color: var(--fill-color);\n",
              "      border-right-color: var(--fill-color);\n",
              "    }\n",
              "    40% {\n",
              "      border-color: transparent;\n",
              "      border-right-color: var(--fill-color);\n",
              "      border-top-color: var(--fill-color);\n",
              "    }\n",
              "    60% {\n",
              "      border-color: transparent;\n",
              "      border-right-color: var(--fill-color);\n",
              "    }\n",
              "    80% {\n",
              "      border-color: transparent;\n",
              "      border-right-color: var(--fill-color);\n",
              "      border-bottom-color: var(--fill-color);\n",
              "    }\n",
              "    90% {\n",
              "      border-color: transparent;\n",
              "      border-bottom-color: var(--fill-color);\n",
              "    }\n",
              "  }\n",
              "</style>\n",
              "\n",
              "      <script>\n",
              "        async function quickchart(key) {\n",
              "          const quickchartButtonEl =\n",
              "            document.querySelector('#' + key + ' button');\n",
              "          quickchartButtonEl.disabled = true;  // To prevent multiple clicks.\n",
              "          quickchartButtonEl.classList.add('colab-df-spinner');\n",
              "          try {\n",
              "            const charts = await google.colab.kernel.invokeFunction(\n",
              "                'suggestCharts', [key], {});\n",
              "          } catch (error) {\n",
              "            console.error('Error during call to suggestCharts:', error);\n",
              "          }\n",
              "          quickchartButtonEl.classList.remove('colab-df-spinner');\n",
              "          quickchartButtonEl.classList.add('colab-df-quickchart-complete');\n",
              "        }\n",
              "        (() => {\n",
              "          let quickchartButtonEl =\n",
              "            document.querySelector('#df-2bfa9b55-0a1a-41ad-8d25-d202a655cc8c button');\n",
              "          quickchartButtonEl.style.display =\n",
              "            google.colab.kernel.accessAllowed ? 'block' : 'none';\n",
              "        })();\n",
              "      </script>\n",
              "    </div>\n",
              "\n",
              "  <div id=\"id_233ec7fa-79f3-4809-867a-d713c2c76de8\">\n",
              "    <style>\n",
              "      .colab-df-generate {\n",
              "        background-color: #E8F0FE;\n",
              "        border: none;\n",
              "        border-radius: 50%;\n",
              "        cursor: pointer;\n",
              "        display: none;\n",
              "        fill: #1967D2;\n",
              "        height: 32px;\n",
              "        padding: 0 0 0 0;\n",
              "        width: 32px;\n",
              "      }\n",
              "\n",
              "      .colab-df-generate:hover {\n",
              "        background-color: #E2EBFA;\n",
              "        box-shadow: 0px 1px 2px rgba(60, 64, 67, 0.3), 0px 1px 3px 1px rgba(60, 64, 67, 0.15);\n",
              "        fill: #174EA6;\n",
              "      }\n",
              "\n",
              "      [theme=dark] .colab-df-generate {\n",
              "        background-color: #3B4455;\n",
              "        fill: #D2E3FC;\n",
              "      }\n",
              "\n",
              "      [theme=dark] .colab-df-generate:hover {\n",
              "        background-color: #434B5C;\n",
              "        box-shadow: 0px 1px 3px 1px rgba(0, 0, 0, 0.15);\n",
              "        filter: drop-shadow(0px 1px 2px rgba(0, 0, 0, 0.3));\n",
              "        fill: #FFFFFF;\n",
              "      }\n",
              "    </style>\n",
              "    <button class=\"colab-df-generate\" onclick=\"generateWithVariable('final_results')\"\n",
              "            title=\"Generate code using this dataframe.\"\n",
              "            style=\"display:none;\">\n",
              "\n",
              "  <svg xmlns=\"http://www.w3.org/2000/svg\" height=\"24px\"viewBox=\"0 0 24 24\"\n",
              "       width=\"24px\">\n",
              "    <path d=\"M7,19H8.4L18.45,9,17,7.55,7,17.6ZM5,21V16.75L18.45,3.32a2,2,0,0,1,2.83,0l1.4,1.43a1.91,1.91,0,0,1,.58,1.4,1.91,1.91,0,0,1-.58,1.4L9.25,21ZM18.45,9,17,7.55Zm-12,3A5.31,5.31,0,0,0,4.9,8.1,5.31,5.31,0,0,0,1,6.5,5.31,5.31,0,0,0,4.9,4.9,5.31,5.31,0,0,0,6.5,1,5.31,5.31,0,0,0,8.1,4.9,5.31,5.31,0,0,0,12,6.5,5.46,5.46,0,0,0,6.5,12Z\"/>\n",
              "  </svg>\n",
              "    </button>\n",
              "    <script>\n",
              "      (() => {\n",
              "      const buttonEl =\n",
              "        document.querySelector('#id_233ec7fa-79f3-4809-867a-d713c2c76de8 button.colab-df-generate');\n",
              "      buttonEl.style.display =\n",
              "        google.colab.kernel.accessAllowed ? 'block' : 'none';\n",
              "\n",
              "      buttonEl.onclick = () => {\n",
              "        google.colab.notebook.generateWithVariable('final_results');\n",
              "      }\n",
              "      })();\n",
              "    </script>\n",
              "  </div>\n",
              "\n",
              "    </div>\n",
              "  </div>\n"
            ],
            "application/vnd.google.colaboratory.intrinsic+json": {
              "type": "dataframe",
              "variable_name": "final_results",
              "summary": "{\n  \"name\": \"final_results\",\n  \"rows\": 3,\n  \"fields\": [\n    {\n      \"column\": \"ARIMA\",\n      \"properties\": {\n        \"dtype\": \"number\",\n        \"std\": 0.4333902926477858,\n        \"min\": 2.049861,\n        \"max\": 2.916179,\n        \"num_unique_values\": 3,\n        \"samples\": [\n          2.049861,\n          2.458499,\n          2.916179\n        ],\n        \"semantic_type\": \"\",\n        \"description\": \"\"\n      }\n    },\n    {\n      \"column\": \"XGBOOST\",\n      \"properties\": {\n        \"dtype\": \"number\",\n        \"std\": 0.3582835251087236,\n        \"min\": 1.671857,\n        \"max\": 2.385964,\n        \"num_unique_values\": 3,\n        \"samples\": [\n          1.671857,\n          2.080288,\n          2.385964\n        ],\n        \"semantic_type\": \"\",\n        \"description\": \"\"\n      }\n    },\n    {\n      \"column\": \"LSTM\",\n      \"properties\": {\n        \"dtype\": \"number\",\n        \"std\": 0.39058418334875006,\n        \"min\": 1.4285943191620027,\n        \"max\": 2.1360799343437833,\n        \"num_unique_values\": 3,\n        \"samples\": [\n          1.4285943191620027,\n          2.1360799343437833,\n          2.0691577868870143\n        ],\n        \"semantic_type\": \"\",\n        \"description\": \"\"\n      }\n    }\n  ]\n}"
            }
          },
          "metadata": {},
          "execution_count": 34
        }
      ]
    }
  ]
}